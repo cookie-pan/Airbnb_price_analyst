{
  "nbformat": 4,
  "nbformat_minor": 0,
  "metadata": {
    "colab": {
      "name": "Untitled0.ipynb",
      "provenance": [],
      "collapsed_sections": [],
      "mount_file_id": "1W90jTsz5teg9LTNDrjG61kzgiAH2_RG4",
      "authorship_tag": "ABX9TyO5m9Z/pga5UL7ZgJ1MR/+g",
      "include_colab_link": true
    },
    "kernelspec": {
      "name": "python3",
      "display_name": "Python 3"
    },
    "language_info": {
      "name": "python"
    }
  },
  "cells": [
    {
      "cell_type": "markdown",
      "metadata": {
        "id": "view-in-github",
        "colab_type": "text"
      },
      "source": [
        "<a href=\"https://colab.research.google.com/github/cookie-pan/Airbnb_price_analyst/blob/main/Airbnb.ipynb\" target=\"_parent\"><img src=\"https://colab.research.google.com/assets/colab-badge.svg\" alt=\"Open In Colab\"/></a>"
      ]
    },
    {
      "cell_type": "markdown",
      "source": [
        "**数据分析背景**\n",
        "\n",
        "Airbnb是一个旅行房屋租赁社区，用户可通过网络或手机应用程序发布、搜索度假房屋租赁信息并完成在线预定程序。对 Airbnb 提供的数以百万计的挂牌信息进行数据分析，是该公司的一个关键因素。这数以百万计的列表产生了大量的数据——数据可以被分析和用于安全、商业决策、理解客户和供应商(主机)的行为和平台上的表现、指导营销活动、实施创新的附加服务等等。我们需通过已知数据，挖掘其中的隐藏的信息和规律，为租客和房东提供更便利的服务来使其自身获得良好的发展。"
      ],
      "metadata": {
        "id": "1yO2QDICnWm9"
      }
    },
    {
      "cell_type": "markdown",
      "source": [
        "**分析的目的**\n",
        "\n",
        "  One of the machine learning models at AirBNB is Smart Pricing. After \n",
        "a client has entered the details of their rental, AirBNB suggests an appropriate price. The aim of this notebook is to build and train a Smart Pricing model for this dataset.\n",
        "  \n",
        "\n",
        "\n",
        "我们建立机器学习模型的目的是为了智能定价，当房东将想要出租的房子具体信息输入后，爱彼迎给出一个合理的价格建议。我们的目的是通过这个数据集建立并训练智能的定价模型 \n",
        "\n"
      ],
      "metadata": {
        "id": "hZuluGJAvtA1"
      }
    },
    {
      "cell_type": "code",
      "source": [
        "import numpy as np\n",
        "import pandas as pd\n",
        "import matplotlib.pyplot as plt\n",
        "from matplotlib.pyplot import figure\n",
        "import seaborn as sns\n",
        "import scipy.stats as stats\n",
        "import statsmodels.api as sm  #qq图\n",
        "from datetime import datetime\n",
        "# import pandas_profiling as pp\n",
        "\n",
        "\n",
        "import warnings \n",
        "warnings.filterwarnings('ignore')"
      ],
      "metadata": {
        "id": "cjB7r6aonZbL"
      },
      "execution_count": 195,
      "outputs": []
    },
    {
      "cell_type": "code",
      "source": [
        "data=pd.read_csv(\"/content/drive/MyDrive/Colab Notebooks/airbnb/AB_NYC_2019.csv\")"
      ],
      "metadata": {
        "id": "ue4KgVbRXdAQ"
      },
      "execution_count": 196,
      "outputs": []
    },
    {
      "cell_type": "code",
      "source": [
        "data"
      ],
      "metadata": {
        "colab": {
          "base_uri": "https://localhost:8080/",
          "height": 921
        },
        "id": "YOgU8DOiZzeq",
        "outputId": "64c6d28c-deb7-4ac5-ea00-e9d4750a1674"
      },
      "execution_count": 197,
      "outputs": [
        {
          "output_type": "execute_result",
          "data": {
            "text/html": [
              "\n",
              "  <div id=\"df-fd5da61a-38cb-4a50-835c-da6402119ed2\">\n",
              "    <div class=\"colab-df-container\">\n",
              "      <div>\n",
              "<style scoped>\n",
              "    .dataframe tbody tr th:only-of-type {\n",
              "        vertical-align: middle;\n",
              "    }\n",
              "\n",
              "    .dataframe tbody tr th {\n",
              "        vertical-align: top;\n",
              "    }\n",
              "\n",
              "    .dataframe thead th {\n",
              "        text-align: right;\n",
              "    }\n",
              "</style>\n",
              "<table border=\"1\" class=\"dataframe\">\n",
              "  <thead>\n",
              "    <tr style=\"text-align: right;\">\n",
              "      <th></th>\n",
              "      <th>id</th>\n",
              "      <th>name</th>\n",
              "      <th>host_id</th>\n",
              "      <th>host_name</th>\n",
              "      <th>neighbourhood_group</th>\n",
              "      <th>neighbourhood</th>\n",
              "      <th>latitude</th>\n",
              "      <th>longitude</th>\n",
              "      <th>room_type</th>\n",
              "      <th>price</th>\n",
              "      <th>minimum_nights</th>\n",
              "      <th>number_of_reviews</th>\n",
              "      <th>last_review</th>\n",
              "      <th>reviews_per_month</th>\n",
              "      <th>calculated_host_listings_count</th>\n",
              "      <th>availability_365</th>\n",
              "    </tr>\n",
              "  </thead>\n",
              "  <tbody>\n",
              "    <tr>\n",
              "      <th>0</th>\n",
              "      <td>2539</td>\n",
              "      <td>Clean &amp; quiet apt home by the park</td>\n",
              "      <td>2787</td>\n",
              "      <td>John</td>\n",
              "      <td>Brooklyn</td>\n",
              "      <td>Kensington</td>\n",
              "      <td>40.64749</td>\n",
              "      <td>-73.97237</td>\n",
              "      <td>Private room</td>\n",
              "      <td>149</td>\n",
              "      <td>1</td>\n",
              "      <td>9</td>\n",
              "      <td>2018-10-19</td>\n",
              "      <td>0.21</td>\n",
              "      <td>6</td>\n",
              "      <td>365</td>\n",
              "    </tr>\n",
              "    <tr>\n",
              "      <th>1</th>\n",
              "      <td>2595</td>\n",
              "      <td>Skylit Midtown Castle</td>\n",
              "      <td>2845</td>\n",
              "      <td>Jennifer</td>\n",
              "      <td>Manhattan</td>\n",
              "      <td>Midtown</td>\n",
              "      <td>40.75362</td>\n",
              "      <td>-73.98377</td>\n",
              "      <td>Entire home/apt</td>\n",
              "      <td>225</td>\n",
              "      <td>1</td>\n",
              "      <td>45</td>\n",
              "      <td>2019-05-21</td>\n",
              "      <td>0.38</td>\n",
              "      <td>2</td>\n",
              "      <td>355</td>\n",
              "    </tr>\n",
              "    <tr>\n",
              "      <th>2</th>\n",
              "      <td>3647</td>\n",
              "      <td>THE VILLAGE OF HARLEM....NEW YORK !</td>\n",
              "      <td>4632</td>\n",
              "      <td>Elisabeth</td>\n",
              "      <td>Manhattan</td>\n",
              "      <td>Harlem</td>\n",
              "      <td>40.80902</td>\n",
              "      <td>-73.94190</td>\n",
              "      <td>Private room</td>\n",
              "      <td>150</td>\n",
              "      <td>3</td>\n",
              "      <td>0</td>\n",
              "      <td>NaN</td>\n",
              "      <td>NaN</td>\n",
              "      <td>1</td>\n",
              "      <td>365</td>\n",
              "    </tr>\n",
              "    <tr>\n",
              "      <th>3</th>\n",
              "      <td>3831</td>\n",
              "      <td>Cozy Entire Floor of Brownstone</td>\n",
              "      <td>4869</td>\n",
              "      <td>LisaRoxanne</td>\n",
              "      <td>Brooklyn</td>\n",
              "      <td>Clinton Hill</td>\n",
              "      <td>40.68514</td>\n",
              "      <td>-73.95976</td>\n",
              "      <td>Entire home/apt</td>\n",
              "      <td>89</td>\n",
              "      <td>1</td>\n",
              "      <td>270</td>\n",
              "      <td>2019-07-05</td>\n",
              "      <td>4.64</td>\n",
              "      <td>1</td>\n",
              "      <td>194</td>\n",
              "    </tr>\n",
              "    <tr>\n",
              "      <th>4</th>\n",
              "      <td>5022</td>\n",
              "      <td>Entire Apt: Spacious Studio/Loft by central park</td>\n",
              "      <td>7192</td>\n",
              "      <td>Laura</td>\n",
              "      <td>Manhattan</td>\n",
              "      <td>East Harlem</td>\n",
              "      <td>40.79851</td>\n",
              "      <td>-73.94399</td>\n",
              "      <td>Entire home/apt</td>\n",
              "      <td>80</td>\n",
              "      <td>10</td>\n",
              "      <td>9</td>\n",
              "      <td>2018-11-19</td>\n",
              "      <td>0.10</td>\n",
              "      <td>1</td>\n",
              "      <td>0</td>\n",
              "    </tr>\n",
              "    <tr>\n",
              "      <th>...</th>\n",
              "      <td>...</td>\n",
              "      <td>...</td>\n",
              "      <td>...</td>\n",
              "      <td>...</td>\n",
              "      <td>...</td>\n",
              "      <td>...</td>\n",
              "      <td>...</td>\n",
              "      <td>...</td>\n",
              "      <td>...</td>\n",
              "      <td>...</td>\n",
              "      <td>...</td>\n",
              "      <td>...</td>\n",
              "      <td>...</td>\n",
              "      <td>...</td>\n",
              "      <td>...</td>\n",
              "      <td>...</td>\n",
              "    </tr>\n",
              "    <tr>\n",
              "      <th>48890</th>\n",
              "      <td>36484665</td>\n",
              "      <td>Charming one bedroom - newly renovated rowhouse</td>\n",
              "      <td>8232441</td>\n",
              "      <td>Sabrina</td>\n",
              "      <td>Brooklyn</td>\n",
              "      <td>Bedford-Stuyvesant</td>\n",
              "      <td>40.67853</td>\n",
              "      <td>-73.94995</td>\n",
              "      <td>Private room</td>\n",
              "      <td>70</td>\n",
              "      <td>2</td>\n",
              "      <td>0</td>\n",
              "      <td>NaN</td>\n",
              "      <td>NaN</td>\n",
              "      <td>2</td>\n",
              "      <td>9</td>\n",
              "    </tr>\n",
              "    <tr>\n",
              "      <th>48891</th>\n",
              "      <td>36485057</td>\n",
              "      <td>Affordable room in Bushwick/East Williamsburg</td>\n",
              "      <td>6570630</td>\n",
              "      <td>Marisol</td>\n",
              "      <td>Brooklyn</td>\n",
              "      <td>Bushwick</td>\n",
              "      <td>40.70184</td>\n",
              "      <td>-73.93317</td>\n",
              "      <td>Private room</td>\n",
              "      <td>40</td>\n",
              "      <td>4</td>\n",
              "      <td>0</td>\n",
              "      <td>NaN</td>\n",
              "      <td>NaN</td>\n",
              "      <td>2</td>\n",
              "      <td>36</td>\n",
              "    </tr>\n",
              "    <tr>\n",
              "      <th>48892</th>\n",
              "      <td>36485431</td>\n",
              "      <td>Sunny Studio at Historical Neighborhood</td>\n",
              "      <td>23492952</td>\n",
              "      <td>Ilgar &amp; Aysel</td>\n",
              "      <td>Manhattan</td>\n",
              "      <td>Harlem</td>\n",
              "      <td>40.81475</td>\n",
              "      <td>-73.94867</td>\n",
              "      <td>Entire home/apt</td>\n",
              "      <td>115</td>\n",
              "      <td>10</td>\n",
              "      <td>0</td>\n",
              "      <td>NaN</td>\n",
              "      <td>NaN</td>\n",
              "      <td>1</td>\n",
              "      <td>27</td>\n",
              "    </tr>\n",
              "    <tr>\n",
              "      <th>48893</th>\n",
              "      <td>36485609</td>\n",
              "      <td>43rd St. Time Square-cozy single bed</td>\n",
              "      <td>30985759</td>\n",
              "      <td>Taz</td>\n",
              "      <td>Manhattan</td>\n",
              "      <td>Hell's Kitchen</td>\n",
              "      <td>40.75751</td>\n",
              "      <td>-73.99112</td>\n",
              "      <td>Shared room</td>\n",
              "      <td>55</td>\n",
              "      <td>1</td>\n",
              "      <td>0</td>\n",
              "      <td>NaN</td>\n",
              "      <td>NaN</td>\n",
              "      <td>6</td>\n",
              "      <td>2</td>\n",
              "    </tr>\n",
              "    <tr>\n",
              "      <th>48894</th>\n",
              "      <td>36487245</td>\n",
              "      <td>Trendy duplex in the very heart of Hell's Kitchen</td>\n",
              "      <td>68119814</td>\n",
              "      <td>Christophe</td>\n",
              "      <td>Manhattan</td>\n",
              "      <td>Hell's Kitchen</td>\n",
              "      <td>40.76404</td>\n",
              "      <td>-73.98933</td>\n",
              "      <td>Private room</td>\n",
              "      <td>90</td>\n",
              "      <td>7</td>\n",
              "      <td>0</td>\n",
              "      <td>NaN</td>\n",
              "      <td>NaN</td>\n",
              "      <td>1</td>\n",
              "      <td>23</td>\n",
              "    </tr>\n",
              "  </tbody>\n",
              "</table>\n",
              "<p>48895 rows × 16 columns</p>\n",
              "</div>\n",
              "      <button class=\"colab-df-convert\" onclick=\"convertToInteractive('df-fd5da61a-38cb-4a50-835c-da6402119ed2')\"\n",
              "              title=\"Convert this dataframe to an interactive table.\"\n",
              "              style=\"display:none;\">\n",
              "        \n",
              "  <svg xmlns=\"http://www.w3.org/2000/svg\" height=\"24px\"viewBox=\"0 0 24 24\"\n",
              "       width=\"24px\">\n",
              "    <path d=\"M0 0h24v24H0V0z\" fill=\"none\"/>\n",
              "    <path d=\"M18.56 5.44l.94 2.06.94-2.06 2.06-.94-2.06-.94-.94-2.06-.94 2.06-2.06.94zm-11 1L8.5 8.5l.94-2.06 2.06-.94-2.06-.94L8.5 2.5l-.94 2.06-2.06.94zm10 10l.94 2.06.94-2.06 2.06-.94-2.06-.94-.94-2.06-.94 2.06-2.06.94z\"/><path d=\"M17.41 7.96l-1.37-1.37c-.4-.4-.92-.59-1.43-.59-.52 0-1.04.2-1.43.59L10.3 9.45l-7.72 7.72c-.78.78-.78 2.05 0 2.83L4 21.41c.39.39.9.59 1.41.59.51 0 1.02-.2 1.41-.59l7.78-7.78 2.81-2.81c.8-.78.8-2.07 0-2.86zM5.41 20L4 18.59l7.72-7.72 1.47 1.35L5.41 20z\"/>\n",
              "  </svg>\n",
              "      </button>\n",
              "      \n",
              "  <style>\n",
              "    .colab-df-container {\n",
              "      display:flex;\n",
              "      flex-wrap:wrap;\n",
              "      gap: 12px;\n",
              "    }\n",
              "\n",
              "    .colab-df-convert {\n",
              "      background-color: #E8F0FE;\n",
              "      border: none;\n",
              "      border-radius: 50%;\n",
              "      cursor: pointer;\n",
              "      display: none;\n",
              "      fill: #1967D2;\n",
              "      height: 32px;\n",
              "      padding: 0 0 0 0;\n",
              "      width: 32px;\n",
              "    }\n",
              "\n",
              "    .colab-df-convert:hover {\n",
              "      background-color: #E2EBFA;\n",
              "      box-shadow: 0px 1px 2px rgba(60, 64, 67, 0.3), 0px 1px 3px 1px rgba(60, 64, 67, 0.15);\n",
              "      fill: #174EA6;\n",
              "    }\n",
              "\n",
              "    [theme=dark] .colab-df-convert {\n",
              "      background-color: #3B4455;\n",
              "      fill: #D2E3FC;\n",
              "    }\n",
              "\n",
              "    [theme=dark] .colab-df-convert:hover {\n",
              "      background-color: #434B5C;\n",
              "      box-shadow: 0px 1px 3px 1px rgba(0, 0, 0, 0.15);\n",
              "      filter: drop-shadow(0px 1px 2px rgba(0, 0, 0, 0.3));\n",
              "      fill: #FFFFFF;\n",
              "    }\n",
              "  </style>\n",
              "\n",
              "      <script>\n",
              "        const buttonEl =\n",
              "          document.querySelector('#df-fd5da61a-38cb-4a50-835c-da6402119ed2 button.colab-df-convert');\n",
              "        buttonEl.style.display =\n",
              "          google.colab.kernel.accessAllowed ? 'block' : 'none';\n",
              "\n",
              "        async function convertToInteractive(key) {\n",
              "          const element = document.querySelector('#df-fd5da61a-38cb-4a50-835c-da6402119ed2');\n",
              "          const dataTable =\n",
              "            await google.colab.kernel.invokeFunction('convertToInteractive',\n",
              "                                                     [key], {});\n",
              "          if (!dataTable) return;\n",
              "\n",
              "          const docLinkHtml = 'Like what you see? Visit the ' +\n",
              "            '<a target=\"_blank\" href=https://colab.research.google.com/notebooks/data_table.ipynb>data table notebook</a>'\n",
              "            + ' to learn more about interactive tables.';\n",
              "          element.innerHTML = '';\n",
              "          dataTable['output_type'] = 'display_data';\n",
              "          await google.colab.output.renderOutput(dataTable, element);\n",
              "          const docLink = document.createElement('div');\n",
              "          docLink.innerHTML = docLinkHtml;\n",
              "          element.appendChild(docLink);\n",
              "        }\n",
              "      </script>\n",
              "    </div>\n",
              "  </div>\n",
              "  "
            ],
            "text/plain": [
              "             id                                               name   host_id  \\\n",
              "0          2539                 Clean & quiet apt home by the park      2787   \n",
              "1          2595                              Skylit Midtown Castle      2845   \n",
              "2          3647                THE VILLAGE OF HARLEM....NEW YORK !      4632   \n",
              "3          3831                    Cozy Entire Floor of Brownstone      4869   \n",
              "4          5022   Entire Apt: Spacious Studio/Loft by central park      7192   \n",
              "...         ...                                                ...       ...   \n",
              "48890  36484665    Charming one bedroom - newly renovated rowhouse   8232441   \n",
              "48891  36485057      Affordable room in Bushwick/East Williamsburg   6570630   \n",
              "48892  36485431            Sunny Studio at Historical Neighborhood  23492952   \n",
              "48893  36485609               43rd St. Time Square-cozy single bed  30985759   \n",
              "48894  36487245  Trendy duplex in the very heart of Hell's Kitchen  68119814   \n",
              "\n",
              "           host_name neighbourhood_group       neighbourhood  latitude  \\\n",
              "0               John            Brooklyn          Kensington  40.64749   \n",
              "1           Jennifer           Manhattan             Midtown  40.75362   \n",
              "2          Elisabeth           Manhattan              Harlem  40.80902   \n",
              "3        LisaRoxanne            Brooklyn        Clinton Hill  40.68514   \n",
              "4              Laura           Manhattan         East Harlem  40.79851   \n",
              "...              ...                 ...                 ...       ...   \n",
              "48890        Sabrina            Brooklyn  Bedford-Stuyvesant  40.67853   \n",
              "48891        Marisol            Brooklyn            Bushwick  40.70184   \n",
              "48892  Ilgar & Aysel           Manhattan              Harlem  40.81475   \n",
              "48893            Taz           Manhattan      Hell's Kitchen  40.75751   \n",
              "48894     Christophe           Manhattan      Hell's Kitchen  40.76404   \n",
              "\n",
              "       longitude        room_type  price  minimum_nights  number_of_reviews  \\\n",
              "0      -73.97237     Private room    149               1                  9   \n",
              "1      -73.98377  Entire home/apt    225               1                 45   \n",
              "2      -73.94190     Private room    150               3                  0   \n",
              "3      -73.95976  Entire home/apt     89               1                270   \n",
              "4      -73.94399  Entire home/apt     80              10                  9   \n",
              "...          ...              ...    ...             ...                ...   \n",
              "48890  -73.94995     Private room     70               2                  0   \n",
              "48891  -73.93317     Private room     40               4                  0   \n",
              "48892  -73.94867  Entire home/apt    115              10                  0   \n",
              "48893  -73.99112      Shared room     55               1                  0   \n",
              "48894  -73.98933     Private room     90               7                  0   \n",
              "\n",
              "      last_review  reviews_per_month  calculated_host_listings_count  \\\n",
              "0      2018-10-19               0.21                               6   \n",
              "1      2019-05-21               0.38                               2   \n",
              "2             NaN                NaN                               1   \n",
              "3      2019-07-05               4.64                               1   \n",
              "4      2018-11-19               0.10                               1   \n",
              "...           ...                ...                             ...   \n",
              "48890         NaN                NaN                               2   \n",
              "48891         NaN                NaN                               2   \n",
              "48892         NaN                NaN                               1   \n",
              "48893         NaN                NaN                               6   \n",
              "48894         NaN                NaN                               1   \n",
              "\n",
              "       availability_365  \n",
              "0                   365  \n",
              "1                   355  \n",
              "2                   365  \n",
              "3                   194  \n",
              "4                     0  \n",
              "...                 ...  \n",
              "48890                 9  \n",
              "48891                36  \n",
              "48892                27  \n",
              "48893                 2  \n",
              "48894                23  \n",
              "\n",
              "[48895 rows x 16 columns]"
            ]
          },
          "metadata": {},
          "execution_count": 197
        }
      ]
    },
    {
      "cell_type": "code",
      "source": [
        "data.dtypes"
      ],
      "metadata": {
        "colab": {
          "base_uri": "https://localhost:8080/"
        },
        "id": "QKLXyCNzwjeB",
        "outputId": "3f700129-caac-430b-d36d-d5571bb32919"
      },
      "execution_count": 198,
      "outputs": [
        {
          "output_type": "execute_result",
          "data": {
            "text/plain": [
              "id                                  int64\n",
              "name                               object\n",
              "host_id                             int64\n",
              "host_name                          object\n",
              "neighbourhood_group                object\n",
              "neighbourhood                      object\n",
              "latitude                          float64\n",
              "longitude                         float64\n",
              "room_type                          object\n",
              "price                               int64\n",
              "minimum_nights                      int64\n",
              "number_of_reviews                   int64\n",
              "last_review                        object\n",
              "reviews_per_month                 float64\n",
              "calculated_host_listings_count      int64\n",
              "availability_365                    int64\n",
              "dtype: object"
            ]
          },
          "metadata": {},
          "execution_count": 198
        }
      ]
    },
    {
      "cell_type": "markdown",
      "source": [
        "**由爱彼迎官方website的数据字典对较模糊的特征相应的解释：**\n",
        "\n",
        "\n",
        "\n",
        "*   id：房子的编号\n",
        "*   name：房子的描述\n",
        "\n",
        "\n",
        "*   host_id：房东的id，每个房东原则上是unique\n",
        "\n",
        "*   availability_365：未来365天内房屋还未被预租的天数\n",
        "\n",
        "*   number_of_reviews：租客评论数\n",
        "\n",
        "*   calculated_host_listings_count：房东出租的房屋总数\n",
        "\n",
        "\n",
        "\n",
        "\n",
        "\n",
        "\n",
        "\n"
      ],
      "metadata": {
        "id": "uuTno6ovhRup"
      }
    },
    {
      "cell_type": "code",
      "source": [
        "#查看每个特征变量的种类\n",
        "# data.apply(\"nunique\").to_frame()\n",
        "data.nunique().to_frame()\n",
        "# data['neighbourhood_group'].unique()\n"
      ],
      "metadata": {
        "colab": {
          "base_uri": "https://localhost:8080/",
          "height": 551
        },
        "id": "4HGBrUA5ezUf",
        "outputId": "ad3ff654-5a29-4097-8a71-7d6166f7a03c"
      },
      "execution_count": 199,
      "outputs": [
        {
          "output_type": "execute_result",
          "data": {
            "text/html": [
              "\n",
              "  <div id=\"df-47f7e792-416a-4f5d-b5ca-34d6d084865d\">\n",
              "    <div class=\"colab-df-container\">\n",
              "      <div>\n",
              "<style scoped>\n",
              "    .dataframe tbody tr th:only-of-type {\n",
              "        vertical-align: middle;\n",
              "    }\n",
              "\n",
              "    .dataframe tbody tr th {\n",
              "        vertical-align: top;\n",
              "    }\n",
              "\n",
              "    .dataframe thead th {\n",
              "        text-align: right;\n",
              "    }\n",
              "</style>\n",
              "<table border=\"1\" class=\"dataframe\">\n",
              "  <thead>\n",
              "    <tr style=\"text-align: right;\">\n",
              "      <th></th>\n",
              "      <th>0</th>\n",
              "    </tr>\n",
              "  </thead>\n",
              "  <tbody>\n",
              "    <tr>\n",
              "      <th>id</th>\n",
              "      <td>48895</td>\n",
              "    </tr>\n",
              "    <tr>\n",
              "      <th>name</th>\n",
              "      <td>47905</td>\n",
              "    </tr>\n",
              "    <tr>\n",
              "      <th>host_id</th>\n",
              "      <td>37457</td>\n",
              "    </tr>\n",
              "    <tr>\n",
              "      <th>host_name</th>\n",
              "      <td>11452</td>\n",
              "    </tr>\n",
              "    <tr>\n",
              "      <th>neighbourhood_group</th>\n",
              "      <td>5</td>\n",
              "    </tr>\n",
              "    <tr>\n",
              "      <th>neighbourhood</th>\n",
              "      <td>221</td>\n",
              "    </tr>\n",
              "    <tr>\n",
              "      <th>latitude</th>\n",
              "      <td>19048</td>\n",
              "    </tr>\n",
              "    <tr>\n",
              "      <th>longitude</th>\n",
              "      <td>14718</td>\n",
              "    </tr>\n",
              "    <tr>\n",
              "      <th>room_type</th>\n",
              "      <td>3</td>\n",
              "    </tr>\n",
              "    <tr>\n",
              "      <th>price</th>\n",
              "      <td>674</td>\n",
              "    </tr>\n",
              "    <tr>\n",
              "      <th>minimum_nights</th>\n",
              "      <td>109</td>\n",
              "    </tr>\n",
              "    <tr>\n",
              "      <th>number_of_reviews</th>\n",
              "      <td>394</td>\n",
              "    </tr>\n",
              "    <tr>\n",
              "      <th>last_review</th>\n",
              "      <td>1764</td>\n",
              "    </tr>\n",
              "    <tr>\n",
              "      <th>reviews_per_month</th>\n",
              "      <td>937</td>\n",
              "    </tr>\n",
              "    <tr>\n",
              "      <th>calculated_host_listings_count</th>\n",
              "      <td>47</td>\n",
              "    </tr>\n",
              "    <tr>\n",
              "      <th>availability_365</th>\n",
              "      <td>366</td>\n",
              "    </tr>\n",
              "  </tbody>\n",
              "</table>\n",
              "</div>\n",
              "      <button class=\"colab-df-convert\" onclick=\"convertToInteractive('df-47f7e792-416a-4f5d-b5ca-34d6d084865d')\"\n",
              "              title=\"Convert this dataframe to an interactive table.\"\n",
              "              style=\"display:none;\">\n",
              "        \n",
              "  <svg xmlns=\"http://www.w3.org/2000/svg\" height=\"24px\"viewBox=\"0 0 24 24\"\n",
              "       width=\"24px\">\n",
              "    <path d=\"M0 0h24v24H0V0z\" fill=\"none\"/>\n",
              "    <path d=\"M18.56 5.44l.94 2.06.94-2.06 2.06-.94-2.06-.94-.94-2.06-.94 2.06-2.06.94zm-11 1L8.5 8.5l.94-2.06 2.06-.94-2.06-.94L8.5 2.5l-.94 2.06-2.06.94zm10 10l.94 2.06.94-2.06 2.06-.94-2.06-.94-.94-2.06-.94 2.06-2.06.94z\"/><path d=\"M17.41 7.96l-1.37-1.37c-.4-.4-.92-.59-1.43-.59-.52 0-1.04.2-1.43.59L10.3 9.45l-7.72 7.72c-.78.78-.78 2.05 0 2.83L4 21.41c.39.39.9.59 1.41.59.51 0 1.02-.2 1.41-.59l7.78-7.78 2.81-2.81c.8-.78.8-2.07 0-2.86zM5.41 20L4 18.59l7.72-7.72 1.47 1.35L5.41 20z\"/>\n",
              "  </svg>\n",
              "      </button>\n",
              "      \n",
              "  <style>\n",
              "    .colab-df-container {\n",
              "      display:flex;\n",
              "      flex-wrap:wrap;\n",
              "      gap: 12px;\n",
              "    }\n",
              "\n",
              "    .colab-df-convert {\n",
              "      background-color: #E8F0FE;\n",
              "      border: none;\n",
              "      border-radius: 50%;\n",
              "      cursor: pointer;\n",
              "      display: none;\n",
              "      fill: #1967D2;\n",
              "      height: 32px;\n",
              "      padding: 0 0 0 0;\n",
              "      width: 32px;\n",
              "    }\n",
              "\n",
              "    .colab-df-convert:hover {\n",
              "      background-color: #E2EBFA;\n",
              "      box-shadow: 0px 1px 2px rgba(60, 64, 67, 0.3), 0px 1px 3px 1px rgba(60, 64, 67, 0.15);\n",
              "      fill: #174EA6;\n",
              "    }\n",
              "\n",
              "    [theme=dark] .colab-df-convert {\n",
              "      background-color: #3B4455;\n",
              "      fill: #D2E3FC;\n",
              "    }\n",
              "\n",
              "    [theme=dark] .colab-df-convert:hover {\n",
              "      background-color: #434B5C;\n",
              "      box-shadow: 0px 1px 3px 1px rgba(0, 0, 0, 0.15);\n",
              "      filter: drop-shadow(0px 1px 2px rgba(0, 0, 0, 0.3));\n",
              "      fill: #FFFFFF;\n",
              "    }\n",
              "  </style>\n",
              "\n",
              "      <script>\n",
              "        const buttonEl =\n",
              "          document.querySelector('#df-47f7e792-416a-4f5d-b5ca-34d6d084865d button.colab-df-convert');\n",
              "        buttonEl.style.display =\n",
              "          google.colab.kernel.accessAllowed ? 'block' : 'none';\n",
              "\n",
              "        async function convertToInteractive(key) {\n",
              "          const element = document.querySelector('#df-47f7e792-416a-4f5d-b5ca-34d6d084865d');\n",
              "          const dataTable =\n",
              "            await google.colab.kernel.invokeFunction('convertToInteractive',\n",
              "                                                     [key], {});\n",
              "          if (!dataTable) return;\n",
              "\n",
              "          const docLinkHtml = 'Like what you see? Visit the ' +\n",
              "            '<a target=\"_blank\" href=https://colab.research.google.com/notebooks/data_table.ipynb>data table notebook</a>'\n",
              "            + ' to learn more about interactive tables.';\n",
              "          element.innerHTML = '';\n",
              "          dataTable['output_type'] = 'display_data';\n",
              "          await google.colab.output.renderOutput(dataTable, element);\n",
              "          const docLink = document.createElement('div');\n",
              "          docLink.innerHTML = docLinkHtml;\n",
              "          element.appendChild(docLink);\n",
              "        }\n",
              "      </script>\n",
              "    </div>\n",
              "  </div>\n",
              "  "
            ],
            "text/plain": [
              "                                    0\n",
              "id                              48895\n",
              "name                            47905\n",
              "host_id                         37457\n",
              "host_name                       11452\n",
              "neighbourhood_group                 5\n",
              "neighbourhood                     221\n",
              "latitude                        19048\n",
              "longitude                       14718\n",
              "room_type                           3\n",
              "price                             674\n",
              "minimum_nights                    109\n",
              "number_of_reviews                 394\n",
              "last_review                      1764\n",
              "reviews_per_month                 937\n",
              "calculated_host_listings_count     47\n",
              "availability_365                  366"
            ]
          },
          "metadata": {},
          "execution_count": 199
        }
      ]
    },
    {
      "cell_type": "markdown",
      "source": [
        "查看缺失值并确认缺失值是否随机缺失(MCAR或者MAR)"
      ],
      "metadata": {
        "id": "TzJHDqbI_Epp"
      }
    },
    {
      "cell_type": "code",
      "source": [
        "data.isnull().sum().to_frame(name=\"featrue_na_num\")\n"
      ],
      "metadata": {
        "colab": {
          "base_uri": "https://localhost:8080/",
          "height": 551
        },
        "id": "9G74CcsvVY2l",
        "outputId": "9c3f5d2b-1a3e-42a8-edcf-6e9fc80f44fe"
      },
      "execution_count": 200,
      "outputs": [
        {
          "output_type": "execute_result",
          "data": {
            "text/html": [
              "\n",
              "  <div id=\"df-2bccf080-1245-4830-9589-0cb6fac1bcdd\">\n",
              "    <div class=\"colab-df-container\">\n",
              "      <div>\n",
              "<style scoped>\n",
              "    .dataframe tbody tr th:only-of-type {\n",
              "        vertical-align: middle;\n",
              "    }\n",
              "\n",
              "    .dataframe tbody tr th {\n",
              "        vertical-align: top;\n",
              "    }\n",
              "\n",
              "    .dataframe thead th {\n",
              "        text-align: right;\n",
              "    }\n",
              "</style>\n",
              "<table border=\"1\" class=\"dataframe\">\n",
              "  <thead>\n",
              "    <tr style=\"text-align: right;\">\n",
              "      <th></th>\n",
              "      <th>featrue_na_num</th>\n",
              "    </tr>\n",
              "  </thead>\n",
              "  <tbody>\n",
              "    <tr>\n",
              "      <th>id</th>\n",
              "      <td>0</td>\n",
              "    </tr>\n",
              "    <tr>\n",
              "      <th>name</th>\n",
              "      <td>16</td>\n",
              "    </tr>\n",
              "    <tr>\n",
              "      <th>host_id</th>\n",
              "      <td>0</td>\n",
              "    </tr>\n",
              "    <tr>\n",
              "      <th>host_name</th>\n",
              "      <td>21</td>\n",
              "    </tr>\n",
              "    <tr>\n",
              "      <th>neighbourhood_group</th>\n",
              "      <td>0</td>\n",
              "    </tr>\n",
              "    <tr>\n",
              "      <th>neighbourhood</th>\n",
              "      <td>0</td>\n",
              "    </tr>\n",
              "    <tr>\n",
              "      <th>latitude</th>\n",
              "      <td>0</td>\n",
              "    </tr>\n",
              "    <tr>\n",
              "      <th>longitude</th>\n",
              "      <td>0</td>\n",
              "    </tr>\n",
              "    <tr>\n",
              "      <th>room_type</th>\n",
              "      <td>0</td>\n",
              "    </tr>\n",
              "    <tr>\n",
              "      <th>price</th>\n",
              "      <td>0</td>\n",
              "    </tr>\n",
              "    <tr>\n",
              "      <th>minimum_nights</th>\n",
              "      <td>0</td>\n",
              "    </tr>\n",
              "    <tr>\n",
              "      <th>number_of_reviews</th>\n",
              "      <td>0</td>\n",
              "    </tr>\n",
              "    <tr>\n",
              "      <th>last_review</th>\n",
              "      <td>10052</td>\n",
              "    </tr>\n",
              "    <tr>\n",
              "      <th>reviews_per_month</th>\n",
              "      <td>10052</td>\n",
              "    </tr>\n",
              "    <tr>\n",
              "      <th>calculated_host_listings_count</th>\n",
              "      <td>0</td>\n",
              "    </tr>\n",
              "    <tr>\n",
              "      <th>availability_365</th>\n",
              "      <td>0</td>\n",
              "    </tr>\n",
              "  </tbody>\n",
              "</table>\n",
              "</div>\n",
              "      <button class=\"colab-df-convert\" onclick=\"convertToInteractive('df-2bccf080-1245-4830-9589-0cb6fac1bcdd')\"\n",
              "              title=\"Convert this dataframe to an interactive table.\"\n",
              "              style=\"display:none;\">\n",
              "        \n",
              "  <svg xmlns=\"http://www.w3.org/2000/svg\" height=\"24px\"viewBox=\"0 0 24 24\"\n",
              "       width=\"24px\">\n",
              "    <path d=\"M0 0h24v24H0V0z\" fill=\"none\"/>\n",
              "    <path d=\"M18.56 5.44l.94 2.06.94-2.06 2.06-.94-2.06-.94-.94-2.06-.94 2.06-2.06.94zm-11 1L8.5 8.5l.94-2.06 2.06-.94-2.06-.94L8.5 2.5l-.94 2.06-2.06.94zm10 10l.94 2.06.94-2.06 2.06-.94-2.06-.94-.94-2.06-.94 2.06-2.06.94z\"/><path d=\"M17.41 7.96l-1.37-1.37c-.4-.4-.92-.59-1.43-.59-.52 0-1.04.2-1.43.59L10.3 9.45l-7.72 7.72c-.78.78-.78 2.05 0 2.83L4 21.41c.39.39.9.59 1.41.59.51 0 1.02-.2 1.41-.59l7.78-7.78 2.81-2.81c.8-.78.8-2.07 0-2.86zM5.41 20L4 18.59l7.72-7.72 1.47 1.35L5.41 20z\"/>\n",
              "  </svg>\n",
              "      </button>\n",
              "      \n",
              "  <style>\n",
              "    .colab-df-container {\n",
              "      display:flex;\n",
              "      flex-wrap:wrap;\n",
              "      gap: 12px;\n",
              "    }\n",
              "\n",
              "    .colab-df-convert {\n",
              "      background-color: #E8F0FE;\n",
              "      border: none;\n",
              "      border-radius: 50%;\n",
              "      cursor: pointer;\n",
              "      display: none;\n",
              "      fill: #1967D2;\n",
              "      height: 32px;\n",
              "      padding: 0 0 0 0;\n",
              "      width: 32px;\n",
              "    }\n",
              "\n",
              "    .colab-df-convert:hover {\n",
              "      background-color: #E2EBFA;\n",
              "      box-shadow: 0px 1px 2px rgba(60, 64, 67, 0.3), 0px 1px 3px 1px rgba(60, 64, 67, 0.15);\n",
              "      fill: #174EA6;\n",
              "    }\n",
              "\n",
              "    [theme=dark] .colab-df-convert {\n",
              "      background-color: #3B4455;\n",
              "      fill: #D2E3FC;\n",
              "    }\n",
              "\n",
              "    [theme=dark] .colab-df-convert:hover {\n",
              "      background-color: #434B5C;\n",
              "      box-shadow: 0px 1px 3px 1px rgba(0, 0, 0, 0.15);\n",
              "      filter: drop-shadow(0px 1px 2px rgba(0, 0, 0, 0.3));\n",
              "      fill: #FFFFFF;\n",
              "    }\n",
              "  </style>\n",
              "\n",
              "      <script>\n",
              "        const buttonEl =\n",
              "          document.querySelector('#df-2bccf080-1245-4830-9589-0cb6fac1bcdd button.colab-df-convert');\n",
              "        buttonEl.style.display =\n",
              "          google.colab.kernel.accessAllowed ? 'block' : 'none';\n",
              "\n",
              "        async function convertToInteractive(key) {\n",
              "          const element = document.querySelector('#df-2bccf080-1245-4830-9589-0cb6fac1bcdd');\n",
              "          const dataTable =\n",
              "            await google.colab.kernel.invokeFunction('convertToInteractive',\n",
              "                                                     [key], {});\n",
              "          if (!dataTable) return;\n",
              "\n",
              "          const docLinkHtml = 'Like what you see? Visit the ' +\n",
              "            '<a target=\"_blank\" href=https://colab.research.google.com/notebooks/data_table.ipynb>data table notebook</a>'\n",
              "            + ' to learn more about interactive tables.';\n",
              "          element.innerHTML = '';\n",
              "          dataTable['output_type'] = 'display_data';\n",
              "          await google.colab.output.renderOutput(dataTable, element);\n",
              "          const docLink = document.createElement('div');\n",
              "          docLink.innerHTML = docLinkHtml;\n",
              "          element.appendChild(docLink);\n",
              "        }\n",
              "      </script>\n",
              "    </div>\n",
              "  </div>\n",
              "  "
            ],
            "text/plain": [
              "                                featrue_na_num\n",
              "id                                           0\n",
              "name                                        16\n",
              "host_id                                      0\n",
              "host_name                                   21\n",
              "neighbourhood_group                          0\n",
              "neighbourhood                                0\n",
              "latitude                                     0\n",
              "longitude                                    0\n",
              "room_type                                    0\n",
              "price                                        0\n",
              "minimum_nights                               0\n",
              "number_of_reviews                            0\n",
              "last_review                              10052\n",
              "reviews_per_month                        10052\n",
              "calculated_host_listings_count               0\n",
              "availability_365                             0"
            ]
          },
          "metadata": {},
          "execution_count": 200
        }
      ]
    },
    {
      "cell_type": "code",
      "source": [
        "#10052条\n",
        "data[(data['last_review'].isnull())&(data['reviews_per_month'].isnull())&(data['number_of_reviews']==0)]\n",
        "#缺失的原因：没有评论，所以是Na值，对应的reviews_per_month也是空值\n",
        "\n",
        "#用0填充\n",
        "data[\"reviews_per_month\"].fillna(0,inplace=True)\n",
        "\n",
        "#检查错误值:是否有房子的每月评价数为0但是总评价数不为0\n",
        "data[(data['reviews_per_month']==0)&(data['number_of_reviews']!=0)]\n",
        "#无错误数据"
      ],
      "metadata": {
        "colab": {
          "base_uri": "https://localhost:8080/",
          "height": 113
        },
        "id": "kxprkGrO_GRq",
        "outputId": "48f5e2ac-d374-4590-c496-49e0f1aed73c"
      },
      "execution_count": 201,
      "outputs": [
        {
          "output_type": "execute_result",
          "data": {
            "text/html": [
              "\n",
              "  <div id=\"df-e180a1fa-4cb7-42ed-9792-10a63a2d51e7\">\n",
              "    <div class=\"colab-df-container\">\n",
              "      <div>\n",
              "<style scoped>\n",
              "    .dataframe tbody tr th:only-of-type {\n",
              "        vertical-align: middle;\n",
              "    }\n",
              "\n",
              "    .dataframe tbody tr th {\n",
              "        vertical-align: top;\n",
              "    }\n",
              "\n",
              "    .dataframe thead th {\n",
              "        text-align: right;\n",
              "    }\n",
              "</style>\n",
              "<table border=\"1\" class=\"dataframe\">\n",
              "  <thead>\n",
              "    <tr style=\"text-align: right;\">\n",
              "      <th></th>\n",
              "      <th>id</th>\n",
              "      <th>name</th>\n",
              "      <th>host_id</th>\n",
              "      <th>host_name</th>\n",
              "      <th>neighbourhood_group</th>\n",
              "      <th>neighbourhood</th>\n",
              "      <th>latitude</th>\n",
              "      <th>longitude</th>\n",
              "      <th>room_type</th>\n",
              "      <th>price</th>\n",
              "      <th>minimum_nights</th>\n",
              "      <th>number_of_reviews</th>\n",
              "      <th>last_review</th>\n",
              "      <th>reviews_per_month</th>\n",
              "      <th>calculated_host_listings_count</th>\n",
              "      <th>availability_365</th>\n",
              "    </tr>\n",
              "  </thead>\n",
              "  <tbody>\n",
              "  </tbody>\n",
              "</table>\n",
              "</div>\n",
              "      <button class=\"colab-df-convert\" onclick=\"convertToInteractive('df-e180a1fa-4cb7-42ed-9792-10a63a2d51e7')\"\n",
              "              title=\"Convert this dataframe to an interactive table.\"\n",
              "              style=\"display:none;\">\n",
              "        \n",
              "  <svg xmlns=\"http://www.w3.org/2000/svg\" height=\"24px\"viewBox=\"0 0 24 24\"\n",
              "       width=\"24px\">\n",
              "    <path d=\"M0 0h24v24H0V0z\" fill=\"none\"/>\n",
              "    <path d=\"M18.56 5.44l.94 2.06.94-2.06 2.06-.94-2.06-.94-.94-2.06-.94 2.06-2.06.94zm-11 1L8.5 8.5l.94-2.06 2.06-.94-2.06-.94L8.5 2.5l-.94 2.06-2.06.94zm10 10l.94 2.06.94-2.06 2.06-.94-2.06-.94-.94-2.06-.94 2.06-2.06.94z\"/><path d=\"M17.41 7.96l-1.37-1.37c-.4-.4-.92-.59-1.43-.59-.52 0-1.04.2-1.43.59L10.3 9.45l-7.72 7.72c-.78.78-.78 2.05 0 2.83L4 21.41c.39.39.9.59 1.41.59.51 0 1.02-.2 1.41-.59l7.78-7.78 2.81-2.81c.8-.78.8-2.07 0-2.86zM5.41 20L4 18.59l7.72-7.72 1.47 1.35L5.41 20z\"/>\n",
              "  </svg>\n",
              "      </button>\n",
              "      \n",
              "  <style>\n",
              "    .colab-df-container {\n",
              "      display:flex;\n",
              "      flex-wrap:wrap;\n",
              "      gap: 12px;\n",
              "    }\n",
              "\n",
              "    .colab-df-convert {\n",
              "      background-color: #E8F0FE;\n",
              "      border: none;\n",
              "      border-radius: 50%;\n",
              "      cursor: pointer;\n",
              "      display: none;\n",
              "      fill: #1967D2;\n",
              "      height: 32px;\n",
              "      padding: 0 0 0 0;\n",
              "      width: 32px;\n",
              "    }\n",
              "\n",
              "    .colab-df-convert:hover {\n",
              "      background-color: #E2EBFA;\n",
              "      box-shadow: 0px 1px 2px rgba(60, 64, 67, 0.3), 0px 1px 3px 1px rgba(60, 64, 67, 0.15);\n",
              "      fill: #174EA6;\n",
              "    }\n",
              "\n",
              "    [theme=dark] .colab-df-convert {\n",
              "      background-color: #3B4455;\n",
              "      fill: #D2E3FC;\n",
              "    }\n",
              "\n",
              "    [theme=dark] .colab-df-convert:hover {\n",
              "      background-color: #434B5C;\n",
              "      box-shadow: 0px 1px 3px 1px rgba(0, 0, 0, 0.15);\n",
              "      filter: drop-shadow(0px 1px 2px rgba(0, 0, 0, 0.3));\n",
              "      fill: #FFFFFF;\n",
              "    }\n",
              "  </style>\n",
              "\n",
              "      <script>\n",
              "        const buttonEl =\n",
              "          document.querySelector('#df-e180a1fa-4cb7-42ed-9792-10a63a2d51e7 button.colab-df-convert');\n",
              "        buttonEl.style.display =\n",
              "          google.colab.kernel.accessAllowed ? 'block' : 'none';\n",
              "\n",
              "        async function convertToInteractive(key) {\n",
              "          const element = document.querySelector('#df-e180a1fa-4cb7-42ed-9792-10a63a2d51e7');\n",
              "          const dataTable =\n",
              "            await google.colab.kernel.invokeFunction('convertToInteractive',\n",
              "                                                     [key], {});\n",
              "          if (!dataTable) return;\n",
              "\n",
              "          const docLinkHtml = 'Like what you see? Visit the ' +\n",
              "            '<a target=\"_blank\" href=https://colab.research.google.com/notebooks/data_table.ipynb>data table notebook</a>'\n",
              "            + ' to learn more about interactive tables.';\n",
              "          element.innerHTML = '';\n",
              "          dataTable['output_type'] = 'display_data';\n",
              "          await google.colab.output.renderOutput(dataTable, element);\n",
              "          const docLink = document.createElement('div');\n",
              "          docLink.innerHTML = docLinkHtml;\n",
              "          element.appendChild(docLink);\n",
              "        }\n",
              "      </script>\n",
              "    </div>\n",
              "  </div>\n",
              "  "
            ],
            "text/plain": [
              "Empty DataFrame\n",
              "Columns: [id, name, host_id, host_name, neighbourhood_group, neighbourhood, latitude, longitude, room_type, price, minimum_nights, number_of_reviews, last_review, reviews_per_month, calculated_host_listings_count, availability_365]\n",
              "Index: []"
            ]
          },
          "metadata": {},
          "execution_count": 201
        }
      ]
    },
    {
      "cell_type": "code",
      "source": [
        "data[data[\"name\"].isnull()]\n",
        "data[data[\"host_name\"].isnull()]\n",
        "#name和host_name的缺失没有关系"
      ],
      "metadata": {
        "colab": {
          "base_uri": "https://localhost:8080/",
          "height": 1000
        },
        "id": "0605xCJfVBVT",
        "outputId": "da5d4e06-f81b-4fce-dadf-db2e2bb4c65f"
      },
      "execution_count": 202,
      "outputs": [
        {
          "output_type": "execute_result",
          "data": {
            "text/html": [
              "\n",
              "  <div id=\"df-7f5a1587-aed7-4387-be1a-d12a4e5c0d19\">\n",
              "    <div class=\"colab-df-container\">\n",
              "      <div>\n",
              "<style scoped>\n",
              "    .dataframe tbody tr th:only-of-type {\n",
              "        vertical-align: middle;\n",
              "    }\n",
              "\n",
              "    .dataframe tbody tr th {\n",
              "        vertical-align: top;\n",
              "    }\n",
              "\n",
              "    .dataframe thead th {\n",
              "        text-align: right;\n",
              "    }\n",
              "</style>\n",
              "<table border=\"1\" class=\"dataframe\">\n",
              "  <thead>\n",
              "    <tr style=\"text-align: right;\">\n",
              "      <th></th>\n",
              "      <th>id</th>\n",
              "      <th>name</th>\n",
              "      <th>host_id</th>\n",
              "      <th>host_name</th>\n",
              "      <th>neighbourhood_group</th>\n",
              "      <th>neighbourhood</th>\n",
              "      <th>latitude</th>\n",
              "      <th>longitude</th>\n",
              "      <th>room_type</th>\n",
              "      <th>price</th>\n",
              "      <th>minimum_nights</th>\n",
              "      <th>number_of_reviews</th>\n",
              "      <th>last_review</th>\n",
              "      <th>reviews_per_month</th>\n",
              "      <th>calculated_host_listings_count</th>\n",
              "      <th>availability_365</th>\n",
              "    </tr>\n",
              "  </thead>\n",
              "  <tbody>\n",
              "    <tr>\n",
              "      <th>360</th>\n",
              "      <td>100184</td>\n",
              "      <td>Bienvenue</td>\n",
              "      <td>526653</td>\n",
              "      <td>NaN</td>\n",
              "      <td>Queens</td>\n",
              "      <td>Queens Village</td>\n",
              "      <td>40.72413</td>\n",
              "      <td>-73.76133</td>\n",
              "      <td>Private room</td>\n",
              "      <td>50</td>\n",
              "      <td>1</td>\n",
              "      <td>43</td>\n",
              "      <td>2019-07-08</td>\n",
              "      <td>0.45</td>\n",
              "      <td>1</td>\n",
              "      <td>88</td>\n",
              "    </tr>\n",
              "    <tr>\n",
              "      <th>2700</th>\n",
              "      <td>1449546</td>\n",
              "      <td>Cozy Studio in Flatbush</td>\n",
              "      <td>7779204</td>\n",
              "      <td>NaN</td>\n",
              "      <td>Brooklyn</td>\n",
              "      <td>Flatbush</td>\n",
              "      <td>40.64965</td>\n",
              "      <td>-73.96154</td>\n",
              "      <td>Entire home/apt</td>\n",
              "      <td>100</td>\n",
              "      <td>30</td>\n",
              "      <td>49</td>\n",
              "      <td>2017-01-02</td>\n",
              "      <td>0.69</td>\n",
              "      <td>1</td>\n",
              "      <td>342</td>\n",
              "    </tr>\n",
              "    <tr>\n",
              "      <th>5745</th>\n",
              "      <td>4183989</td>\n",
              "      <td>SPRING in the City!! Zen-Style Tranquil Bedroom</td>\n",
              "      <td>919218</td>\n",
              "      <td>NaN</td>\n",
              "      <td>Manhattan</td>\n",
              "      <td>Harlem</td>\n",
              "      <td>40.80606</td>\n",
              "      <td>-73.95061</td>\n",
              "      <td>Private room</td>\n",
              "      <td>86</td>\n",
              "      <td>3</td>\n",
              "      <td>34</td>\n",
              "      <td>2019-05-23</td>\n",
              "      <td>1.00</td>\n",
              "      <td>1</td>\n",
              "      <td>359</td>\n",
              "    </tr>\n",
              "    <tr>\n",
              "      <th>6075</th>\n",
              "      <td>4446862</td>\n",
              "      <td>Charming Room in Prospect Heights!</td>\n",
              "      <td>23077718</td>\n",
              "      <td>NaN</td>\n",
              "      <td>Brooklyn</td>\n",
              "      <td>Crown Heights</td>\n",
              "      <td>40.67512</td>\n",
              "      <td>-73.96146</td>\n",
              "      <td>Private room</td>\n",
              "      <td>50</td>\n",
              "      <td>1</td>\n",
              "      <td>0</td>\n",
              "      <td>NaN</td>\n",
              "      <td>0.00</td>\n",
              "      <td>1</td>\n",
              "      <td>0</td>\n",
              "    </tr>\n",
              "    <tr>\n",
              "      <th>6582</th>\n",
              "      <td>4763327</td>\n",
              "      <td>Luxurious, best location, spa inc'l</td>\n",
              "      <td>24576978</td>\n",
              "      <td>NaN</td>\n",
              "      <td>Brooklyn</td>\n",
              "      <td>Greenpoint</td>\n",
              "      <td>40.72035</td>\n",
              "      <td>-73.95355</td>\n",
              "      <td>Entire home/apt</td>\n",
              "      <td>195</td>\n",
              "      <td>1</td>\n",
              "      <td>1</td>\n",
              "      <td>2015-10-20</td>\n",
              "      <td>0.02</td>\n",
              "      <td>1</td>\n",
              "      <td>0</td>\n",
              "    </tr>\n",
              "    <tr>\n",
              "      <th>8163</th>\n",
              "      <td>6292866</td>\n",
              "      <td>Modern Quiet Gem Near All</td>\n",
              "      <td>32722063</td>\n",
              "      <td>NaN</td>\n",
              "      <td>Brooklyn</td>\n",
              "      <td>East Flatbush</td>\n",
              "      <td>40.65263</td>\n",
              "      <td>-73.93215</td>\n",
              "      <td>Entire home/apt</td>\n",
              "      <td>85</td>\n",
              "      <td>2</td>\n",
              "      <td>182</td>\n",
              "      <td>2019-06-19</td>\n",
              "      <td>3.59</td>\n",
              "      <td>2</td>\n",
              "      <td>318</td>\n",
              "    </tr>\n",
              "    <tr>\n",
              "      <th>8257</th>\n",
              "      <td>6360224</td>\n",
              "      <td>Sunny, Private room in Bushwick</td>\n",
              "      <td>33134899</td>\n",
              "      <td>NaN</td>\n",
              "      <td>Brooklyn</td>\n",
              "      <td>Bushwick</td>\n",
              "      <td>40.70146</td>\n",
              "      <td>-73.92792</td>\n",
              "      <td>Private room</td>\n",
              "      <td>37</td>\n",
              "      <td>1</td>\n",
              "      <td>1</td>\n",
              "      <td>2015-07-01</td>\n",
              "      <td>0.02</td>\n",
              "      <td>1</td>\n",
              "      <td>0</td>\n",
              "    </tr>\n",
              "    <tr>\n",
              "      <th>8852</th>\n",
              "      <td>6786181</td>\n",
              "      <td>R&amp;S Modern Spacious Hideaway</td>\n",
              "      <td>32722063</td>\n",
              "      <td>NaN</td>\n",
              "      <td>Brooklyn</td>\n",
              "      <td>East Flatbush</td>\n",
              "      <td>40.64345</td>\n",
              "      <td>-73.93643</td>\n",
              "      <td>Entire home/apt</td>\n",
              "      <td>100</td>\n",
              "      <td>2</td>\n",
              "      <td>157</td>\n",
              "      <td>2019-06-19</td>\n",
              "      <td>3.18</td>\n",
              "      <td>2</td>\n",
              "      <td>342</td>\n",
              "    </tr>\n",
              "    <tr>\n",
              "      <th>9138</th>\n",
              "      <td>6992973</td>\n",
              "      <td>1 Bedroom in Prime Williamsburg</td>\n",
              "      <td>5162530</td>\n",
              "      <td>NaN</td>\n",
              "      <td>Brooklyn</td>\n",
              "      <td>Williamsburg</td>\n",
              "      <td>40.71838</td>\n",
              "      <td>-73.95630</td>\n",
              "      <td>Entire home/apt</td>\n",
              "      <td>145</td>\n",
              "      <td>1</td>\n",
              "      <td>0</td>\n",
              "      <td>NaN</td>\n",
              "      <td>0.00</td>\n",
              "      <td>1</td>\n",
              "      <td>0</td>\n",
              "    </tr>\n",
              "    <tr>\n",
              "      <th>9817</th>\n",
              "      <td>7556587</td>\n",
              "      <td>Sunny Room in Harlem</td>\n",
              "      <td>39608626</td>\n",
              "      <td>NaN</td>\n",
              "      <td>Manhattan</td>\n",
              "      <td>Harlem</td>\n",
              "      <td>40.82929</td>\n",
              "      <td>-73.94182</td>\n",
              "      <td>Private room</td>\n",
              "      <td>28</td>\n",
              "      <td>1</td>\n",
              "      <td>1</td>\n",
              "      <td>2015-08-01</td>\n",
              "      <td>0.02</td>\n",
              "      <td>1</td>\n",
              "      <td>0</td>\n",
              "    </tr>\n",
              "    <tr>\n",
              "      <th>14040</th>\n",
              "      <td>10709846</td>\n",
              "      <td>Sunny, spacious room in Greenpoint</td>\n",
              "      <td>7822683</td>\n",
              "      <td>NaN</td>\n",
              "      <td>Brooklyn</td>\n",
              "      <td>Greenpoint</td>\n",
              "      <td>40.73539</td>\n",
              "      <td>-73.95838</td>\n",
              "      <td>Private room</td>\n",
              "      <td>55</td>\n",
              "      <td>10</td>\n",
              "      <td>2</td>\n",
              "      <td>2016-11-05</td>\n",
              "      <td>0.05</td>\n",
              "      <td>1</td>\n",
              "      <td>0</td>\n",
              "    </tr>\n",
              "    <tr>\n",
              "      <th>14631</th>\n",
              "      <td>11553543</td>\n",
              "      <td>Cozy Room Astoria</td>\n",
              "      <td>26138712</td>\n",
              "      <td>NaN</td>\n",
              "      <td>Queens</td>\n",
              "      <td>Ditmars Steinway</td>\n",
              "      <td>40.77587</td>\n",
              "      <td>-73.91775</td>\n",
              "      <td>Private room</td>\n",
              "      <td>45</td>\n",
              "      <td>1</td>\n",
              "      <td>5</td>\n",
              "      <td>2017-01-01</td>\n",
              "      <td>0.13</td>\n",
              "      <td>1</td>\n",
              "      <td>0</td>\n",
              "    </tr>\n",
              "    <tr>\n",
              "      <th>15174</th>\n",
              "      <td>12113879</td>\n",
              "      <td>Sunny, Large West Village 1 BR Near Everything</td>\n",
              "      <td>5300585</td>\n",
              "      <td>NaN</td>\n",
              "      <td>Manhattan</td>\n",
              "      <td>Chelsea</td>\n",
              "      <td>40.73949</td>\n",
              "      <td>-73.99801</td>\n",
              "      <td>Entire home/apt</td>\n",
              "      <td>220</td>\n",
              "      <td>4</td>\n",
              "      <td>81</td>\n",
              "      <td>2019-07-02</td>\n",
              "      <td>2.11</td>\n",
              "      <td>1</td>\n",
              "      <td>217</td>\n",
              "    </tr>\n",
              "    <tr>\n",
              "      <th>19565</th>\n",
              "      <td>15648096</td>\n",
              "      <td>Spacious 2 bedroom close to Manhattan</td>\n",
              "      <td>100971588</td>\n",
              "      <td>NaN</td>\n",
              "      <td>Bronx</td>\n",
              "      <td>Highbridge</td>\n",
              "      <td>40.83844</td>\n",
              "      <td>-73.92489</td>\n",
              "      <td>Entire home/apt</td>\n",
              "      <td>75</td>\n",
              "      <td>4</td>\n",
              "      <td>37</td>\n",
              "      <td>2019-07-07</td>\n",
              "      <td>1.21</td>\n",
              "      <td>1</td>\n",
              "      <td>26</td>\n",
              "    </tr>\n",
              "    <tr>\n",
              "      <th>27777</th>\n",
              "      <td>21787094</td>\n",
              "      <td>Spacious and Bright Midtown East Apartment</td>\n",
              "      <td>415290</td>\n",
              "      <td>NaN</td>\n",
              "      <td>Manhattan</td>\n",
              "      <td>Upper East Side</td>\n",
              "      <td>40.76436</td>\n",
              "      <td>-73.96836</td>\n",
              "      <td>Entire home/apt</td>\n",
              "      <td>325</td>\n",
              "      <td>1</td>\n",
              "      <td>0</td>\n",
              "      <td>NaN</td>\n",
              "      <td>0.00</td>\n",
              "      <td>1</td>\n",
              "      <td>0</td>\n",
              "    </tr>\n",
              "    <tr>\n",
              "      <th>27962</th>\n",
              "      <td>21867710</td>\n",
              "      <td>Amazing room in the centre on Manhatten! Welcome!</td>\n",
              "      <td>159156636</td>\n",
              "      <td>NaN</td>\n",
              "      <td>Manhattan</td>\n",
              "      <td>Hell's Kitchen</td>\n",
              "      <td>40.75668</td>\n",
              "      <td>-73.99097</td>\n",
              "      <td>Private room</td>\n",
              "      <td>120</td>\n",
              "      <td>1</td>\n",
              "      <td>89</td>\n",
              "      <td>2019-01-01</td>\n",
              "      <td>5.16</td>\n",
              "      <td>3</td>\n",
              "      <td>0</td>\n",
              "    </tr>\n",
              "    <tr>\n",
              "      <th>28042</th>\n",
              "      <td>21901156</td>\n",
              "      <td>Best Deal! Lovely place in Manhattan! Time Squ...</td>\n",
              "      <td>159156636</td>\n",
              "      <td>NaN</td>\n",
              "      <td>Manhattan</td>\n",
              "      <td>Hell's Kitchen</td>\n",
              "      <td>40.75656</td>\n",
              "      <td>-73.99063</td>\n",
              "      <td>Private room</td>\n",
              "      <td>120</td>\n",
              "      <td>1</td>\n",
              "      <td>109</td>\n",
              "      <td>2019-01-01</td>\n",
              "      <td>5.97</td>\n",
              "      <td>3</td>\n",
              "      <td>0</td>\n",
              "    </tr>\n",
              "    <tr>\n",
              "      <th>28274</th>\n",
              "      <td>21990808</td>\n",
              "      <td>***SLEEPING IN THE GOLDEN PLACE***</td>\n",
              "      <td>159156636</td>\n",
              "      <td>NaN</td>\n",
              "      <td>Manhattan</td>\n",
              "      <td>Hell's Kitchen</td>\n",
              "      <td>40.75835</td>\n",
              "      <td>-73.99065</td>\n",
              "      <td>Private room</td>\n",
              "      <td>120</td>\n",
              "      <td>1</td>\n",
              "      <td>88</td>\n",
              "      <td>2018-12-14</td>\n",
              "      <td>4.93</td>\n",
              "      <td>3</td>\n",
              "      <td>0</td>\n",
              "    </tr>\n",
              "    <tr>\n",
              "      <th>30570</th>\n",
              "      <td>23660605</td>\n",
              "      <td>Private Bedroom w/ Balcony view of Central Park</td>\n",
              "      <td>177146433</td>\n",
              "      <td>NaN</td>\n",
              "      <td>Manhattan</td>\n",
              "      <td>East Harlem</td>\n",
              "      <td>40.79766</td>\n",
              "      <td>-73.94824</td>\n",
              "      <td>Private room</td>\n",
              "      <td>139</td>\n",
              "      <td>1</td>\n",
              "      <td>6</td>\n",
              "      <td>2018-08-12</td>\n",
              "      <td>0.46</td>\n",
              "      <td>1</td>\n",
              "      <td>0</td>\n",
              "    </tr>\n",
              "    <tr>\n",
              "      <th>32193</th>\n",
              "      <td>25180572</td>\n",
              "      <td>Beautiful Cozy Studio Apt. UWS</td>\n",
              "      <td>119609345</td>\n",
              "      <td>NaN</td>\n",
              "      <td>Manhattan</td>\n",
              "      <td>Upper West Side</td>\n",
              "      <td>40.77701</td>\n",
              "      <td>-73.97667</td>\n",
              "      <td>Entire home/apt</td>\n",
              "      <td>180</td>\n",
              "      <td>4</td>\n",
              "      <td>0</td>\n",
              "      <td>NaN</td>\n",
              "      <td>0.00</td>\n",
              "      <td>1</td>\n",
              "      <td>0</td>\n",
              "    </tr>\n",
              "    <tr>\n",
              "      <th>38992</th>\n",
              "      <td>30468335</td>\n",
              "      <td>LARGE Prospect Lefferts Gardens Bedroom</td>\n",
              "      <td>228750026</td>\n",
              "      <td>NaN</td>\n",
              "      <td>Brooklyn</td>\n",
              "      <td>Flatbush</td>\n",
              "      <td>40.65152</td>\n",
              "      <td>-73.95271</td>\n",
              "      <td>Private room</td>\n",
              "      <td>55</td>\n",
              "      <td>7</td>\n",
              "      <td>0</td>\n",
              "      <td>NaN</td>\n",
              "      <td>0.00</td>\n",
              "      <td>1</td>\n",
              "      <td>69</td>\n",
              "    </tr>\n",
              "  </tbody>\n",
              "</table>\n",
              "</div>\n",
              "      <button class=\"colab-df-convert\" onclick=\"convertToInteractive('df-7f5a1587-aed7-4387-be1a-d12a4e5c0d19')\"\n",
              "              title=\"Convert this dataframe to an interactive table.\"\n",
              "              style=\"display:none;\">\n",
              "        \n",
              "  <svg xmlns=\"http://www.w3.org/2000/svg\" height=\"24px\"viewBox=\"0 0 24 24\"\n",
              "       width=\"24px\">\n",
              "    <path d=\"M0 0h24v24H0V0z\" fill=\"none\"/>\n",
              "    <path d=\"M18.56 5.44l.94 2.06.94-2.06 2.06-.94-2.06-.94-.94-2.06-.94 2.06-2.06.94zm-11 1L8.5 8.5l.94-2.06 2.06-.94-2.06-.94L8.5 2.5l-.94 2.06-2.06.94zm10 10l.94 2.06.94-2.06 2.06-.94-2.06-.94-.94-2.06-.94 2.06-2.06.94z\"/><path d=\"M17.41 7.96l-1.37-1.37c-.4-.4-.92-.59-1.43-.59-.52 0-1.04.2-1.43.59L10.3 9.45l-7.72 7.72c-.78.78-.78 2.05 0 2.83L4 21.41c.39.39.9.59 1.41.59.51 0 1.02-.2 1.41-.59l7.78-7.78 2.81-2.81c.8-.78.8-2.07 0-2.86zM5.41 20L4 18.59l7.72-7.72 1.47 1.35L5.41 20z\"/>\n",
              "  </svg>\n",
              "      </button>\n",
              "      \n",
              "  <style>\n",
              "    .colab-df-container {\n",
              "      display:flex;\n",
              "      flex-wrap:wrap;\n",
              "      gap: 12px;\n",
              "    }\n",
              "\n",
              "    .colab-df-convert {\n",
              "      background-color: #E8F0FE;\n",
              "      border: none;\n",
              "      border-radius: 50%;\n",
              "      cursor: pointer;\n",
              "      display: none;\n",
              "      fill: #1967D2;\n",
              "      height: 32px;\n",
              "      padding: 0 0 0 0;\n",
              "      width: 32px;\n",
              "    }\n",
              "\n",
              "    .colab-df-convert:hover {\n",
              "      background-color: #E2EBFA;\n",
              "      box-shadow: 0px 1px 2px rgba(60, 64, 67, 0.3), 0px 1px 3px 1px rgba(60, 64, 67, 0.15);\n",
              "      fill: #174EA6;\n",
              "    }\n",
              "\n",
              "    [theme=dark] .colab-df-convert {\n",
              "      background-color: #3B4455;\n",
              "      fill: #D2E3FC;\n",
              "    }\n",
              "\n",
              "    [theme=dark] .colab-df-convert:hover {\n",
              "      background-color: #434B5C;\n",
              "      box-shadow: 0px 1px 3px 1px rgba(0, 0, 0, 0.15);\n",
              "      filter: drop-shadow(0px 1px 2px rgba(0, 0, 0, 0.3));\n",
              "      fill: #FFFFFF;\n",
              "    }\n",
              "  </style>\n",
              "\n",
              "      <script>\n",
              "        const buttonEl =\n",
              "          document.querySelector('#df-7f5a1587-aed7-4387-be1a-d12a4e5c0d19 button.colab-df-convert');\n",
              "        buttonEl.style.display =\n",
              "          google.colab.kernel.accessAllowed ? 'block' : 'none';\n",
              "\n",
              "        async function convertToInteractive(key) {\n",
              "          const element = document.querySelector('#df-7f5a1587-aed7-4387-be1a-d12a4e5c0d19');\n",
              "          const dataTable =\n",
              "            await google.colab.kernel.invokeFunction('convertToInteractive',\n",
              "                                                     [key], {});\n",
              "          if (!dataTable) return;\n",
              "\n",
              "          const docLinkHtml = 'Like what you see? Visit the ' +\n",
              "            '<a target=\"_blank\" href=https://colab.research.google.com/notebooks/data_table.ipynb>data table notebook</a>'\n",
              "            + ' to learn more about interactive tables.';\n",
              "          element.innerHTML = '';\n",
              "          dataTable['output_type'] = 'display_data';\n",
              "          await google.colab.output.renderOutput(dataTable, element);\n",
              "          const docLink = document.createElement('div');\n",
              "          docLink.innerHTML = docLinkHtml;\n",
              "          element.appendChild(docLink);\n",
              "        }\n",
              "      </script>\n",
              "    </div>\n",
              "  </div>\n",
              "  "
            ],
            "text/plain": [
              "             id                                               name    host_id  \\\n",
              "360      100184                                          Bienvenue     526653   \n",
              "2700    1449546                            Cozy Studio in Flatbush    7779204   \n",
              "5745    4183989    SPRING in the City!! Zen-Style Tranquil Bedroom     919218   \n",
              "6075    4446862                 Charming Room in Prospect Heights!   23077718   \n",
              "6582    4763327                Luxurious, best location, spa inc'l   24576978   \n",
              "8163    6292866                          Modern Quiet Gem Near All   32722063   \n",
              "8257    6360224                    Sunny, Private room in Bushwick   33134899   \n",
              "8852    6786181                       R&S Modern Spacious Hideaway   32722063   \n",
              "9138    6992973                    1 Bedroom in Prime Williamsburg    5162530   \n",
              "9817    7556587                               Sunny Room in Harlem   39608626   \n",
              "14040  10709846                 Sunny, spacious room in Greenpoint    7822683   \n",
              "14631  11553543                                  Cozy Room Astoria   26138712   \n",
              "15174  12113879     Sunny, Large West Village 1 BR Near Everything    5300585   \n",
              "19565  15648096              Spacious 2 bedroom close to Manhattan  100971588   \n",
              "27777  21787094         Spacious and Bright Midtown East Apartment     415290   \n",
              "27962  21867710  Amazing room in the centre on Manhatten! Welcome!  159156636   \n",
              "28042  21901156  Best Deal! Lovely place in Manhattan! Time Squ...  159156636   \n",
              "28274  21990808                 ***SLEEPING IN THE GOLDEN PLACE***  159156636   \n",
              "30570  23660605    Private Bedroom w/ Balcony view of Central Park  177146433   \n",
              "32193  25180572                     Beautiful Cozy Studio Apt. UWS  119609345   \n",
              "38992  30468335            LARGE Prospect Lefferts Gardens Bedroom  228750026   \n",
              "\n",
              "      host_name neighbourhood_group     neighbourhood  latitude  longitude  \\\n",
              "360         NaN              Queens    Queens Village  40.72413  -73.76133   \n",
              "2700        NaN            Brooklyn          Flatbush  40.64965  -73.96154   \n",
              "5745        NaN           Manhattan            Harlem  40.80606  -73.95061   \n",
              "6075        NaN            Brooklyn     Crown Heights  40.67512  -73.96146   \n",
              "6582        NaN            Brooklyn        Greenpoint  40.72035  -73.95355   \n",
              "8163        NaN            Brooklyn     East Flatbush  40.65263  -73.93215   \n",
              "8257        NaN            Brooklyn          Bushwick  40.70146  -73.92792   \n",
              "8852        NaN            Brooklyn     East Flatbush  40.64345  -73.93643   \n",
              "9138        NaN            Brooklyn      Williamsburg  40.71838  -73.95630   \n",
              "9817        NaN           Manhattan            Harlem  40.82929  -73.94182   \n",
              "14040       NaN            Brooklyn        Greenpoint  40.73539  -73.95838   \n",
              "14631       NaN              Queens  Ditmars Steinway  40.77587  -73.91775   \n",
              "15174       NaN           Manhattan           Chelsea  40.73949  -73.99801   \n",
              "19565       NaN               Bronx        Highbridge  40.83844  -73.92489   \n",
              "27777       NaN           Manhattan   Upper East Side  40.76436  -73.96836   \n",
              "27962       NaN           Manhattan    Hell's Kitchen  40.75668  -73.99097   \n",
              "28042       NaN           Manhattan    Hell's Kitchen  40.75656  -73.99063   \n",
              "28274       NaN           Manhattan    Hell's Kitchen  40.75835  -73.99065   \n",
              "30570       NaN           Manhattan       East Harlem  40.79766  -73.94824   \n",
              "32193       NaN           Manhattan   Upper West Side  40.77701  -73.97667   \n",
              "38992       NaN            Brooklyn          Flatbush  40.65152  -73.95271   \n",
              "\n",
              "             room_type  price  minimum_nights  number_of_reviews last_review  \\\n",
              "360       Private room     50               1                 43  2019-07-08   \n",
              "2700   Entire home/apt    100              30                 49  2017-01-02   \n",
              "5745      Private room     86               3                 34  2019-05-23   \n",
              "6075      Private room     50               1                  0         NaN   \n",
              "6582   Entire home/apt    195               1                  1  2015-10-20   \n",
              "8163   Entire home/apt     85               2                182  2019-06-19   \n",
              "8257      Private room     37               1                  1  2015-07-01   \n",
              "8852   Entire home/apt    100               2                157  2019-06-19   \n",
              "9138   Entire home/apt    145               1                  0         NaN   \n",
              "9817      Private room     28               1                  1  2015-08-01   \n",
              "14040     Private room     55              10                  2  2016-11-05   \n",
              "14631     Private room     45               1                  5  2017-01-01   \n",
              "15174  Entire home/apt    220               4                 81  2019-07-02   \n",
              "19565  Entire home/apt     75               4                 37  2019-07-07   \n",
              "27777  Entire home/apt    325               1                  0         NaN   \n",
              "27962     Private room    120               1                 89  2019-01-01   \n",
              "28042     Private room    120               1                109  2019-01-01   \n",
              "28274     Private room    120               1                 88  2018-12-14   \n",
              "30570     Private room    139               1                  6  2018-08-12   \n",
              "32193  Entire home/apt    180               4                  0         NaN   \n",
              "38992     Private room     55               7                  0         NaN   \n",
              "\n",
              "       reviews_per_month  calculated_host_listings_count  availability_365  \n",
              "360                 0.45                               1                88  \n",
              "2700                0.69                               1               342  \n",
              "5745                1.00                               1               359  \n",
              "6075                0.00                               1                 0  \n",
              "6582                0.02                               1                 0  \n",
              "8163                3.59                               2               318  \n",
              "8257                0.02                               1                 0  \n",
              "8852                3.18                               2               342  \n",
              "9138                0.00                               1                 0  \n",
              "9817                0.02                               1                 0  \n",
              "14040               0.05                               1                 0  \n",
              "14631               0.13                               1                 0  \n",
              "15174               2.11                               1               217  \n",
              "19565               1.21                               1                26  \n",
              "27777               0.00                               1                 0  \n",
              "27962               5.16                               3                 0  \n",
              "28042               5.97                               3                 0  \n",
              "28274               4.93                               3                 0  \n",
              "30570               0.46                               1                 0  \n",
              "32193               0.00                               1                 0  \n",
              "38992               0.00                               1                69  "
            ]
          },
          "metadata": {},
          "execution_count": 202
        }
      ]
    },
    {
      "cell_type": "markdown",
      "source": [
        "四分位数"
      ],
      "metadata": {
        "id": "vQVbvK5---vt"
      }
    },
    {
      "cell_type": "code",
      "source": [
        "np.set_printoptions(suppress=True)\n",
        "pd.set_option('display.max_columns', 10000, 'display.max_rows', 10000)\n",
        "Q1=data.quantile(0.25)\n",
        "Q2=data.quantile(0.75)\n",
        "IQR=Q2-Q1\n",
        "IQR.to_frame()\n",
        "\n",
        "###price和availability_365比较分散"
      ],
      "metadata": {
        "colab": {
          "base_uri": "https://localhost:8080/",
          "height": 363
        },
        "id": "HkYNnIgzMkTW",
        "outputId": "41a10165-3cb6-40c7-a21c-04857b5bee80"
      },
      "execution_count": 203,
      "outputs": [
        {
          "output_type": "execute_result",
          "data": {
            "text/html": [
              "\n",
              "  <div id=\"df-1da776f4-e595-4d86-8aea-1e821815c9b4\">\n",
              "    <div class=\"colab-df-container\">\n",
              "      <div>\n",
              "<style scoped>\n",
              "    .dataframe tbody tr th:only-of-type {\n",
              "        vertical-align: middle;\n",
              "    }\n",
              "\n",
              "    .dataframe tbody tr th {\n",
              "        vertical-align: top;\n",
              "    }\n",
              "\n",
              "    .dataframe thead th {\n",
              "        text-align: right;\n",
              "    }\n",
              "</style>\n",
              "<table border=\"1\" class=\"dataframe\">\n",
              "  <thead>\n",
              "    <tr style=\"text-align: right;\">\n",
              "      <th></th>\n",
              "      <th>0</th>\n",
              "    </tr>\n",
              "  </thead>\n",
              "  <tbody>\n",
              "    <tr>\n",
              "      <th>id</th>\n",
              "      <td>1.968023e+07</td>\n",
              "    </tr>\n",
              "    <tr>\n",
              "      <th>host_id</th>\n",
              "      <td>9.961239e+07</td>\n",
              "    </tr>\n",
              "    <tr>\n",
              "      <th>latitude</th>\n",
              "      <td>7.301500e-02</td>\n",
              "    </tr>\n",
              "    <tr>\n",
              "      <th>longitude</th>\n",
              "      <td>4.679500e-02</td>\n",
              "    </tr>\n",
              "    <tr>\n",
              "      <th>price</th>\n",
              "      <td>1.060000e+02</td>\n",
              "    </tr>\n",
              "    <tr>\n",
              "      <th>minimum_nights</th>\n",
              "      <td>4.000000e+00</td>\n",
              "    </tr>\n",
              "    <tr>\n",
              "      <th>number_of_reviews</th>\n",
              "      <td>2.300000e+01</td>\n",
              "    </tr>\n",
              "    <tr>\n",
              "      <th>reviews_per_month</th>\n",
              "      <td>1.540000e+00</td>\n",
              "    </tr>\n",
              "    <tr>\n",
              "      <th>calculated_host_listings_count</th>\n",
              "      <td>1.000000e+00</td>\n",
              "    </tr>\n",
              "    <tr>\n",
              "      <th>availability_365</th>\n",
              "      <td>2.270000e+02</td>\n",
              "    </tr>\n",
              "  </tbody>\n",
              "</table>\n",
              "</div>\n",
              "      <button class=\"colab-df-convert\" onclick=\"convertToInteractive('df-1da776f4-e595-4d86-8aea-1e821815c9b4')\"\n",
              "              title=\"Convert this dataframe to an interactive table.\"\n",
              "              style=\"display:none;\">\n",
              "        \n",
              "  <svg xmlns=\"http://www.w3.org/2000/svg\" height=\"24px\"viewBox=\"0 0 24 24\"\n",
              "       width=\"24px\">\n",
              "    <path d=\"M0 0h24v24H0V0z\" fill=\"none\"/>\n",
              "    <path d=\"M18.56 5.44l.94 2.06.94-2.06 2.06-.94-2.06-.94-.94-2.06-.94 2.06-2.06.94zm-11 1L8.5 8.5l.94-2.06 2.06-.94-2.06-.94L8.5 2.5l-.94 2.06-2.06.94zm10 10l.94 2.06.94-2.06 2.06-.94-2.06-.94-.94-2.06-.94 2.06-2.06.94z\"/><path d=\"M17.41 7.96l-1.37-1.37c-.4-.4-.92-.59-1.43-.59-.52 0-1.04.2-1.43.59L10.3 9.45l-7.72 7.72c-.78.78-.78 2.05 0 2.83L4 21.41c.39.39.9.59 1.41.59.51 0 1.02-.2 1.41-.59l7.78-7.78 2.81-2.81c.8-.78.8-2.07 0-2.86zM5.41 20L4 18.59l7.72-7.72 1.47 1.35L5.41 20z\"/>\n",
              "  </svg>\n",
              "      </button>\n",
              "      \n",
              "  <style>\n",
              "    .colab-df-container {\n",
              "      display:flex;\n",
              "      flex-wrap:wrap;\n",
              "      gap: 12px;\n",
              "    }\n",
              "\n",
              "    .colab-df-convert {\n",
              "      background-color: #E8F0FE;\n",
              "      border: none;\n",
              "      border-radius: 50%;\n",
              "      cursor: pointer;\n",
              "      display: none;\n",
              "      fill: #1967D2;\n",
              "      height: 32px;\n",
              "      padding: 0 0 0 0;\n",
              "      width: 32px;\n",
              "    }\n",
              "\n",
              "    .colab-df-convert:hover {\n",
              "      background-color: #E2EBFA;\n",
              "      box-shadow: 0px 1px 2px rgba(60, 64, 67, 0.3), 0px 1px 3px 1px rgba(60, 64, 67, 0.15);\n",
              "      fill: #174EA6;\n",
              "    }\n",
              "\n",
              "    [theme=dark] .colab-df-convert {\n",
              "      background-color: #3B4455;\n",
              "      fill: #D2E3FC;\n",
              "    }\n",
              "\n",
              "    [theme=dark] .colab-df-convert:hover {\n",
              "      background-color: #434B5C;\n",
              "      box-shadow: 0px 1px 3px 1px rgba(0, 0, 0, 0.15);\n",
              "      filter: drop-shadow(0px 1px 2px rgba(0, 0, 0, 0.3));\n",
              "      fill: #FFFFFF;\n",
              "    }\n",
              "  </style>\n",
              "\n",
              "      <script>\n",
              "        const buttonEl =\n",
              "          document.querySelector('#df-1da776f4-e595-4d86-8aea-1e821815c9b4 button.colab-df-convert');\n",
              "        buttonEl.style.display =\n",
              "          google.colab.kernel.accessAllowed ? 'block' : 'none';\n",
              "\n",
              "        async function convertToInteractive(key) {\n",
              "          const element = document.querySelector('#df-1da776f4-e595-4d86-8aea-1e821815c9b4');\n",
              "          const dataTable =\n",
              "            await google.colab.kernel.invokeFunction('convertToInteractive',\n",
              "                                                     [key], {});\n",
              "          if (!dataTable) return;\n",
              "\n",
              "          const docLinkHtml = 'Like what you see? Visit the ' +\n",
              "            '<a target=\"_blank\" href=https://colab.research.google.com/notebooks/data_table.ipynb>data table notebook</a>'\n",
              "            + ' to learn more about interactive tables.';\n",
              "          element.innerHTML = '';\n",
              "          dataTable['output_type'] = 'display_data';\n",
              "          await google.colab.output.renderOutput(dataTable, element);\n",
              "          const docLink = document.createElement('div');\n",
              "          docLink.innerHTML = docLinkHtml;\n",
              "          element.appendChild(docLink);\n",
              "        }\n",
              "      </script>\n",
              "    </div>\n",
              "  </div>\n",
              "  "
            ],
            "text/plain": [
              "                                           0\n",
              "id                              1.968023e+07\n",
              "host_id                         9.961239e+07\n",
              "latitude                        7.301500e-02\n",
              "longitude                       4.679500e-02\n",
              "price                           1.060000e+02\n",
              "minimum_nights                  4.000000e+00\n",
              "number_of_reviews               2.300000e+01\n",
              "reviews_per_month               1.540000e+00\n",
              "calculated_host_listings_count  1.000000e+00\n",
              "availability_365                2.270000e+02"
            ]
          },
          "metadata": {},
          "execution_count": 203
        }
      ]
    },
    {
      "cell_type": "markdown",
      "source": [
        "# processing"
      ],
      "metadata": {
        "id": "2JRA_BipQ3zR"
      }
    },
    {
      "cell_type": "markdown",
      "source": [
        "### 日期处理"
      ],
      "metadata": {
        "id": "ToU2bPu4dMly"
      }
    },
    {
      "cell_type": "markdown",
      "source": [
        "把日期那列转为日期格式"
      ],
      "metadata": {
        "id": "QQeX2DA_SEhG"
      }
    },
    {
      "cell_type": "code",
      "source": [
        "data['last_review']=pd.to_datetime(data['last_review'],infer_datetime_format=True)"
      ],
      "metadata": {
        "id": "bb6LqigWQ6_G"
      },
      "execution_count": 204,
      "outputs": []
    },
    {
      "cell_type": "markdown",
      "source": [
        "把日期转为相对位置的数据格式"
      ],
      "metadata": {
        "id": "Tx9E6W3fW6hm"
      }
    },
    {
      "cell_type": "code",
      "source": [
        "earliest_time=data['last_review'].sort_values(ascending=True)[317]\n",
        "data['last_review']=data['last_review'].fillna(earliest_time)\n",
        "data['last_review'] = data['last_review'].apply(lambda x: x.toordinal() - earliest_time.toordinal())"
      ],
      "metadata": {
        "id": "_viEfm8mTw8I"
      },
      "execution_count": 205,
      "outputs": []
    },
    {
      "cell_type": "markdown",
      "source": [
        "### 价格处理"
      ],
      "metadata": {
        "id": "s0UklS8-dTNe"
      }
    },
    {
      "cell_type": "markdown",
      "source": [
        "delete错误数据"
      ],
      "metadata": {
        "id": "fXEvQ6AXpkQR"
      }
    },
    {
      "cell_type": "code",
      "source": [
        "data[\"price\"].max()\n",
        "data[\"price\"].min()\n",
        "data[\"price\"].describe()\n",
        "#最低价格为0\n",
        "data[data[\"price\"]==0]\n",
        "#分析原因：这些房屋可能是房东和租客为了避免平台扣费而私下交易，因为我们这个项目的目的是为业主提供可行性建议，于是删除这些数据\n",
        "data.drop(index=data[data[\"price\"]==0].index.to_list(),inplace=True)\n",
        "data=data.reset_index(drop=True)"
      ],
      "metadata": {
        "id": "AbXbJOLDu02d"
      },
      "execution_count": 206,
      "outputs": []
    },
    {
      "cell_type": "code",
      "source": [
        "##作price分布图\n",
        "fig=sns.distplot(x=data[\"price\"],label='skewness:%.2f'%(data['price'].skew()))\n",
        "fig.legend(loc=\"best\")\n",
        "# print(\"Price偏度系数：\",data[\"price\"].skew())"
      ],
      "metadata": {
        "colab": {
          "base_uri": "https://localhost:8080/",
          "height": 284
        },
        "id": "bbudyEieofgD",
        "outputId": "52a53901-07c3-4e17-848b-9212775971f2"
      },
      "execution_count": 207,
      "outputs": [
        {
          "output_type": "execute_result",
          "data": {
            "text/plain": [
              "<matplotlib.legend.Legend at 0x7f7bbec78750>"
            ]
          },
          "metadata": {},
          "execution_count": 207
        },
        {
          "output_type": "display_data",
          "data": {
            "image/png": "[encoded data removed]",
            "text/plain": [
              "<Figure size 432x288 with 1 Axes>"
            ]
          },
          "metadata": {
            "needs_background": "light"
          }
        }
      ]
    },
    {
      "cell_type": "markdown",
      "source": [
        "价格特征严重右偏，且存在部分极端值，对机器学习模型如线性回归有消极影响，用对数函数对它进行处理"
      ],
      "metadata": {
        "id": "PLrzFnwRrlIW"
      }
    },
    {
      "cell_type": "code",
      "source": [
        "# data[\"price\"].map(lambda x:np.log(x)).value_counts().index.sort_values()\n",
        "# data[\"log_price\"]=data[\"price\"].map(lambda x:np.log(x))\n",
        "fig, axes = plt.subplots(1,3,figsize=(17,6))\n",
        "sns.distplot(data['price'], ax=axes[0])\n",
        "sns.distplot(np.log1p(data['price']), ax=axes[1])\n",
        "axes[1].set_xlabel('log(1+price)')\n",
        "sm.qqplot(np.log1p(data['price']), stats.norm, fit=True, line='45', ax=axes[2]);\n",
        "#不加分号会出现两排图形\n",
        "data[\"log_price\"]=np.log1p(data['price'])"
      ],
      "metadata": {
        "colab": {
          "base_uri": "https://localhost:8080/",
          "height": 388
        },
        "id": "DU0l0BBSuD80",
        "outputId": "7c77ce2f-4f9a-4cb0-8d30-4c59e5105671"
      },
      "execution_count": 208,
      "outputs": [
        {
          "output_type": "display_data",
          "data": {
            "image/png": "[encoded data removed]",
            "text/plain": [
              "<Figure size 1224x432 with 3 Axes>"
            ]
          },
          "metadata": {
            "needs_background": "light"
          }
        }
      ]
    },
    {
      "cell_type": "markdown",
      "source": [
        "# 特征分析"
      ],
      "metadata": {
        "id": "OdmGRZ1iZXi9"
      }
    },
    {
      "cell_type": "markdown",
      "source": [
        "### 区域分析"
      ],
      "metadata": {
        "id": "d1ksVJ37ZcUo"
      }
    },
    {
      "cell_type": "code",
      "source": [
        "#sns.set_style(\"darkgrid\", {\"axes.facecolor\": \".9\"})\n",
        "sns.set_style(\"whitegrid\")\n",
        "sns.set_palette(sns.color_palette(\"hls\", 8))\n",
        "sns.set_context(\"paper\")\n",
        "\n",
        "\n",
        "\n",
        "#sns.catplot(kind=\"box\",x=\"neighbourhood_group\",y=\"price\",data=data)\n",
        "#由箱线图看出price较分散的情况下，箱线图较难描述\n",
        "group_array=data[\"neighbourhood_group\"].unique()\n",
        "group_df=pd.DataFrame(columns=[\"neighbouhood_group\",\"mean\"])\n",
        "for i in group_array:\n",
        "  \n",
        "  new=pd.DataFrame({'neighbouhood_group':i,\n",
        "                 'mean':data[\"price\"][data['neighbourhood_group']==i].mean()\n",
        "                 \n",
        "                 },index=[1]\n",
        "                )\n",
        "  \n",
        "  group_df=group_df.append(new,ignore_index=True)\n",
        "  \n",
        "\n",
        "group_df\n",
        "plt.figure()\n",
        "plt.plot(group_df[\"neighbouhood_group\"],group_df[\"mean\"])\n",
        "\n",
        "sns.catplot(x=\"neighbourhood_group\", kind=\"count\", data=data)\n",
        "\n"
      ],
      "metadata": {
        "colab": {
          "base_uri": "https://localhost:8080/",
          "height": 637
        },
        "id": "CC_dcsKPNCz8",
        "outputId": "29f44c7f-8a26-4293-cce1-3310d36fae61"
      },
      "execution_count": 209,
      "outputs": [
        {
          "output_type": "execute_result",
          "data": {
            "text/plain": [
              "<seaborn.axisgrid.FacetGrid at 0x7f7bc3893710>"
            ]
          },
          "metadata": {},
          "execution_count": 209
        },
        {
          "output_type": "display_data",
          "data": {
            "image/png": "[encoded data removed]",
            "text/plain": [
              "<Figure size 432x288 with 1 Axes>"
            ]
          },
          "metadata": {}
        },
        {
          "output_type": "display_data",
          "data": {
            "image/png": "[encoded data removed]",
            "text/plain": [
              "<Figure size 360x360 with 1 Axes>"
            ]
          },
          "metadata": {}
        }
      ]
    },
    {
      "cell_type": "markdown",
      "source": [
        "曼哈顿和布鲁克林的房价显著高于其他三个区域，作为世界上消费水平最高的地区之一，这个结果也符合情理\n",
        "\n",
        "\n",
        "\n",
        "\n",
        "发现除了staten island以外其他区域的房价都与那个区域的出租房屋总量正相关：\n",
        "我们在训练模型时把neighbourhood用one_hot_encode的方式处理，在训练模型时可以更好的利用这个特征\n"
      ],
      "metadata": {
        "id": "4IHwI4dgummW"
      }
    },
    {
      "cell_type": "markdown",
      "source": [
        "**每个地区房量总数似乎和价格也有一定程度关系，把这个变量归入特征**"
      ],
      "metadata": {
        "id": "P22Ac4bu7v-V"
      }
    },
    {
      "cell_type": "code",
      "source": [
        "data_dict=data['neighbourhood_group'].value_counts()\n",
        "data[\"area_num\"]=data['neighbourhood_group'].map(data_dict)\n",
        "data[\"area_num\"]"
      ],
      "metadata": {
        "colab": {
          "base_uri": "https://localhost:8080/"
        },
        "id": "v21PKqn68JwL",
        "outputId": "04890464-d04e-4250-a837-08e84b5ce150"
      },
      "execution_count": 210,
      "outputs": [
        {
          "output_type": "execute_result",
          "data": {
            "text/plain": [
              "0        20095\n",
              "1        21660\n",
              "2        21660\n",
              "3        20095\n",
              "4        21660\n",
              "         ...  \n",
              "48879    20095\n",
              "48880    20095\n",
              "48881    21660\n",
              "48882    21660\n",
              "48883    21660\n",
              "Name: area_num, Length: 48884, dtype: int64"
            ]
          },
          "metadata": {},
          "execution_count": 210
        }
      ]
    },
    {
      "cell_type": "code",
      "source": [
        "print(data.corrwith(data[\"price\"]))\n",
        "data.corrwith(data[\"log_price\"])\n",
        "#价格对数化处理后与其他变量的相关性显著提高"
      ],
      "metadata": {
        "colab": {
          "base_uri": "https://localhost:8080/"
        },
        "id": "i7LgTrh9cvA_",
        "outputId": "edd2dbe8-3eb9-4995-de25-76d38961e881"
      },
      "execution_count": 211,
      "outputs": [
        {
          "output_type": "stream",
          "name": "stdout",
          "text": [
            "id                                0.010639\n",
            "host_id                           0.015294\n",
            "latitude                          0.033899\n",
            "longitude                        -0.149954\n",
            "price                             1.000000\n",
            "minimum_nights                    0.042805\n",
            "number_of_reviews                -0.047926\n",
            "last_review                      -0.084643\n",
            "reviews_per_month                -0.050531\n",
            "calculated_host_listings_count    0.057462\n",
            "availability_365                  0.081847\n",
            "log_price                         0.640074\n",
            "area_num                          0.109511\n",
            "dtype: float64\n"
          ]
        },
        {
          "output_type": "execute_result",
          "data": {
            "text/plain": [
              "id                               -0.015258\n",
              "host_id                          -0.016955\n",
              "latitude                          0.079285\n",
              "longitude                        -0.325892\n",
              "price                             0.640074\n",
              "minimum_nights                    0.033386\n",
              "number_of_reviews                -0.042650\n",
              "last_review                      -0.079221\n",
              "reviews_per_month                -0.060483\n",
              "calculated_host_listings_count    0.132836\n",
              "availability_365                  0.099179\n",
              "log_price                         1.000000\n",
              "area_num                          0.256272\n",
              "dtype: float64"
            ]
          },
          "metadata": {},
          "execution_count": 211
        }
      ]
    },
    {
      "cell_type": "markdown",
      "source": [
        "### 经纬度分析"
      ],
      "metadata": {
        "id": "MgpiTHyduWfZ"
      }
    },
    {
      "cell_type": "code",
      "source": [
        "import matplotlib.image as mpimg\n",
        "%matplotlib inline\n",
        "img=mpimg.imread(\"/content/drive/MyDrive/Colab Notebooks/airbnb/New_York_City_.png\",0)\n",
        "min_la=data['latitude'].min()\n",
        "max_la=data['latitude'].max()\n",
        "min_long=data['longitude'].min()\n",
        "max_long=data['longitude'].max()\n",
        "print(max_long)\n",
        "# plt.imshow(img)\n",
        "#根据经纬度最大和分钟缩放图像以获得正确的输出\n",
        "plt.figure(figsize=(10,8))\n",
        "plt.imshow(img,zorder=0,extent=[-74.258, -73.7, 40.49,40.92]) #zorder用来调节颜色和线条粗细\n",
        "ax=plt.gca()\n",
        "data.plot(kind='scatter', x='longitude', y='latitude', label='price', c='log_price', ax=ax, \n",
        "           cmap=plt.get_cmap('jet'), colorbar=True, alpha=0.4, zorder=5)\n"
      ],
      "metadata": {
        "colab": {
          "base_uri": "https://localhost:8080/",
          "height": 502
        },
        "id": "i3xjNT1yeDBs",
        "outputId": "b2f04135-8cbd-4367-e919-9e5547076c5b"
      },
      "execution_count": 212,
      "outputs": [
        {
          "output_type": "stream",
          "name": "stdout",
          "text": [
            "-73.71299\n"
          ]
        },
        {
          "output_type": "execute_result",
          "data": {
            "text/plain": [
              "<matplotlib.axes._subplots.AxesSubplot at 0x7f7bc3ef1790>"
            ]
          },
          "metadata": {},
          "execution_count": 212
        },
        {
          "output_type": "display_data",
          "data": {
            "image/png": "[encoded data removed]",
            "text/plain": [
              "<Figure size 720x576 with 2 Axes>"
            ]
          },
          "metadata": {
            "needs_background": "light"
          }
        }
      ]
    },
    {
      "cell_type": "markdown",
      "source": [
        "\n",
        "\n",
        "**在经纬图的中心地区是价格最贵的，如果我们要做线性回归，可以对经纬度做归一化处理后，创造一个新特征:与区域中心的距离相关的特征**\n",
        "\n"
      ],
      "metadata": {
        "id": "6ny8t6o0yu7n"
      }
    },
    {
      "cell_type": "markdown",
      "source": [
        "1、对经纬度数据做归一化处理"
      ],
      "metadata": {
        "id": "mYnm6jYlAPtU"
      }
    },
    {
      "cell_type": "code",
      "source": [
        "# from sklearn.preprocessing import StandardScaler\n",
        "# std=StandardScaler()\n",
        "\n",
        "\n",
        "la_mean=data['latitude'].mean()\n",
        "lo_mean=data[\"longitude\"].mean()\n",
        "data[\"std_latitude\"]=data[\"latitude\"].map(lambda x:x/la_mean)\n",
        "data[\"std_longitude\"]=data[\"longitude\"].map(lambda x:x/lo_mean)\n",
        "# df_tem=pd.DataFrame(std.fit_transform(data[['latitude',\"longitude\"]]),columns=[\"std_latitude\",\"std_longitude\"])\n",
        "# print(df_tem.isnull().sum())\n",
        "# print(df_tem.shape)\n",
        "# data=pd.concat([data,df_tem],axis=1)\n",
        "data.isnull().sum()"
      ],
      "metadata": {
        "colab": {
          "base_uri": "https://localhost:8080/"
        },
        "id": "eM7kdN-lyuh9",
        "outputId": "6370d54e-9b13-40fd-c297-db9143322d6c"
      },
      "execution_count": 213,
      "outputs": [
        {
          "output_type": "execute_result",
          "data": {
            "text/plain": [
              "id                                 0\n",
              "name                              16\n",
              "host_id                            0\n",
              "host_name                         21\n",
              "neighbourhood_group                0\n",
              "neighbourhood                      0\n",
              "latitude                           0\n",
              "longitude                          0\n",
              "room_type                          0\n",
              "price                              0\n",
              "minimum_nights                     0\n",
              "number_of_reviews                  0\n",
              "last_review                        0\n",
              "reviews_per_month                  0\n",
              "calculated_host_listings_count     0\n",
              "availability_365                   0\n",
              "log_price                          0\n",
              "area_num                           0\n",
              "std_latitude                       0\n",
              "std_longitude                      0\n",
              "dtype: int64"
            ]
          },
          "metadata": {},
          "execution_count": 213
        }
      ]
    },
    {
      "cell_type": "code",
      "source": [
        "data.info()"
      ],
      "metadata": {
        "colab": {
          "base_uri": "https://localhost:8080/"
        },
        "id": "euWMA95hOHbo",
        "outputId": "987cbbf2-839f-495e-c65d-12bba35aa562"
      },
      "execution_count": 214,
      "outputs": [
        {
          "output_type": "stream",
          "name": "stdout",
          "text": [
            "<class 'pandas.core.frame.DataFrame'>\n",
            "RangeIndex: 48884 entries, 0 to 48883\n",
            "Data columns (total 20 columns):\n",
            " #   Column                          Non-Null Count  Dtype  \n",
            "---  ------                          --------------  -----  \n",
            " 0   id                              48884 non-null  int64  \n",
            " 1   name                            48868 non-null  object \n",
            " 2   host_id                         48884 non-null  int64  \n",
            " 3   host_name                       48863 non-null  object \n",
            " 4   neighbourhood_group             48884 non-null  object \n",
            " 5   neighbourhood                   48884 non-null  object \n",
            " 6   latitude                        48884 non-null  float64\n",
            " 7   longitude                       48884 non-null  float64\n",
            " 8   room_type                       48884 non-null  object \n",
            " 9   price                           48884 non-null  int64  \n",
            " 10  minimum_nights                  48884 non-null  int64  \n",
            " 11  number_of_reviews               48884 non-null  int64  \n",
            " 12  last_review                     48884 non-null  int64  \n",
            " 13  reviews_per_month               48884 non-null  float64\n",
            " 14  calculated_host_listings_count  48884 non-null  int64  \n",
            " 15  availability_365                48884 non-null  int64  \n",
            " 16  log_price                       48884 non-null  float64\n",
            " 17  area_num                        48884 non-null  int64  \n",
            " 18  std_latitude                    48884 non-null  float64\n",
            " 19  std_longitude                   48884 non-null  float64\n",
            "dtypes: float64(6), int64(9), object(5)\n",
            "memory usage: 7.5+ MB\n"
          ]
        }
      ]
    },
    {
      "cell_type": "markdown",
      "source": [
        "2、创造新特征"
      ],
      "metadata": {
        "id": "6XHKZTZIA5na"
      }
    },
    {
      "cell_type": "code",
      "source": [
        "# (data['std_latitude'].pow(2)+data['std_longitude'].pow(2)).pow(1/2).value_counts(dropna=False)\n",
        "\n",
        "data[\"core_distance\"]=(data['std_latitude'].pow(2)+data['std_longitude'].pow(2))\n",
        "\n",
        "\n",
        "print(data[\"core_distance\"][data['neighbourhood_group']==\"Brooklyn\"].mean())\n",
        "print(data[\"core_distance\"][data['neighbourhood_group']==\"Queens\"].mean())\n",
        "\n",
        "data[\"core_cat\"]=data[\"core_distance\"].map(lambda x:1 if x<=1.99790 else 0)\n",
        "data.corrwith(data[\"log_price\"])\n"
      ],
      "metadata": {
        "colab": {
          "base_uri": "https://localhost:8080/"
        },
        "id": "khyb35qtA-F9",
        "outputId": "280a6fe6-7046-439c-b9ca-9432d202638c"
      },
      "execution_count": 215,
      "outputs": [
        {
          "output_type": "stream",
          "name": "stdout",
          "text": [
            "1.9978186776495879\n",
            "1.9979819946876594\n"
          ]
        },
        {
          "output_type": "execute_result",
          "data": {
            "text/plain": [
              "id                               -0.015258\n",
              "host_id                          -0.016955\n",
              "latitude                          0.079285\n",
              "longitude                        -0.325892\n",
              "price                             0.640074\n",
              "minimum_nights                    0.033386\n",
              "number_of_reviews                -0.042650\n",
              "last_review                      -0.079221\n",
              "reviews_per_month                -0.060483\n",
              "calculated_host_listings_count    0.132836\n",
              "availability_365                  0.099179\n",
              "log_price                         1.000000\n",
              "area_num                          0.256272\n",
              "std_latitude                      0.079285\n",
              "std_longitude                     0.325892\n",
              "core_distance                     0.216493\n",
              "core_cat                         -0.276676\n",
              "dtype: float64"
            ]
          },
          "metadata": {},
          "execution_count": 215
        }
      ]
    },
    {
      "cell_type": "markdown",
      "source": [
        "### room type分析"
      ],
      "metadata": {
        "id": "K_MP2h3Rjkt7"
      }
    },
    {
      "cell_type": "code",
      "source": [
        "sns.catplot(x='room_type', kind='count' ,data=data)"
      ],
      "metadata": {
        "colab": {
          "base_uri": "https://localhost:8080/",
          "height": 386
        },
        "id": "PtDvD1FJjqf7",
        "outputId": "88d9f1f1-e49b-4e51-cd46-676c17baa6b1"
      },
      "execution_count": 216,
      "outputs": [
        {
          "output_type": "execute_result",
          "data": {
            "text/plain": [
              "<seaborn.axisgrid.FacetGrid at 0x7f7bbd8bfe50>"
            ]
          },
          "metadata": {},
          "execution_count": 216
        },
        {
          "output_type": "display_data",
          "data": {
            "image/png": "[encoded data removed]",
            "text/plain": [
              "<Figure size 360x360 with 1 Axes>"
            ]
          },
          "metadata": {
            "needs_background": "light"
          }
        }
      ]
    },
    {
      "cell_type": "markdown",
      "source": [
        "shared room数量特别少，大多数都是出租房间和整栋房子的类型"
      ],
      "metadata": {
        "id": "7HEWshTdj1iU"
      }
    },
    {
      "cell_type": "code",
      "source": [
        "data['room_type'].unique()"
      ],
      "metadata": {
        "colab": {
          "base_uri": "https://localhost:8080/"
        },
        "id": "8ZeyoVwGnR1K",
        "outputId": "cfa5f31f-d002-43a7-9d8a-1bc3daa9eaea"
      },
      "execution_count": 217,
      "outputs": [
        {
          "output_type": "execute_result",
          "data": {
            "text/plain": [
              "array(['Private room', 'Entire home/apt', 'Shared room'], dtype=object)"
            ]
          },
          "metadata": {},
          "execution_count": 217
        }
      ]
    },
    {
      "cell_type": "code",
      "source": [
        "data['log_price'][data['room_type']==\"Private room\"].mean()\n",
        "data['log_price'][data['room_type']==\"Entire home/apt\"].mean()\n",
        "data['log_price'][data['room_type']==\"Shared room\"].mean()\n",
        "#平均价格和房间数量成正比"
      ],
      "metadata": {
        "colab": {
          "base_uri": "https://localhost:8080/"
        },
        "id": "6EMz4r0DkYmL",
        "outputId": "3cafec0a-b40b-4bb7-e3ce-d94857513104"
      },
      "execution_count": 218,
      "outputs": [
        {
          "output_type": "execute_result",
          "data": {
            "text/plain": [
              "3.975221371835865"
            ]
          },
          "metadata": {},
          "execution_count": 218
        }
      ]
    },
    {
      "cell_type": "markdown",
      "source": [
        "**把每种房间类型的总数当作一个特征变量**"
      ],
      "metadata": {
        "id": "gVZd1QNbujVo"
      }
    },
    {
      "cell_type": "code",
      "source": [
        "df=data[\"room_type\"].value_counts()\n",
        "data[\"room_num\"]=data[\"room_type\"].map(df)"
      ],
      "metadata": {
        "id": "rfNvkdmSu2r-"
      },
      "execution_count": 219,
      "outputs": []
    },
    {
      "cell_type": "markdown",
      "source": [
        "### 价格分析"
      ],
      "metadata": {
        "id": "7DVi2F23TmZv"
      }
    },
    {
      "cell_type": "markdown",
      "source": [
        "分析房屋价格的有重价的分布情况"
      ],
      "metadata": {
        "id": "LVP2DQ9iztV5"
      }
    },
    {
      "cell_type": "code",
      "source": [
        "data_tem=data[\"log_price\"].value_counts(ascending=False)\n",
        "price_distri=data_tem.to_frame(name=\"price_num\").assign(price=data_tem.index)\n",
        "sns.relplot(x=\"price_num\",y=\"price\",data=price_distri)"
      ],
      "metadata": {
        "colab": {
          "base_uri": "https://localhost:8080/",
          "height": 388
        },
        "id": "PyA3fiyL13gS",
        "outputId": "51aaa310-381b-443e-8114-ad635a5bf6c1"
      },
      "execution_count": 220,
      "outputs": [
        {
          "output_type": "execute_result",
          "data": {
            "text/plain": [
              "<seaborn.axisgrid.FacetGrid at 0x7f7bc2ff5d10>"
            ]
          },
          "metadata": {},
          "execution_count": 220
        },
        {
          "output_type": "display_data",
          "data": {
            "image/png": "[encoded data removed]",
            "text/plain": [
              "<Figure size 360x360 with 1 Axes>"
            ]
          },
          "metadata": {
            "needs_background": "light"
          }
        }
      ]
    },
    {
      "cell_type": "markdown",
      "source": [
        "将重价房屋数目加入数据集"
      ],
      "metadata": {
        "id": "Xac0eCFCQKHl"
      }
    },
    {
      "cell_type": "code",
      "source": [
        "dic_tem=data[\"price\"].value_counts().to_dict()\n",
        "data[\"sameprice_num\"]=data[\"price\"].map(dic_tem)\n",
        "\n",
        "data[\"sameprice_num_cat\"]=data[\"sameprice_num\"].map(lambda x:1 if x>=100 else 0)\n",
        "\n",
        "data.corrwith(data['log_price'])"
      ],
      "metadata": {
        "colab": {
          "base_uri": "https://localhost:8080/"
        },
        "id": "eYJXlT03QQQB",
        "outputId": "b1cdc868-0d18-47d1-c804-2e7cc08cce82"
      },
      "execution_count": 221,
      "outputs": [
        {
          "output_type": "execute_result",
          "data": {
            "text/plain": [
              "id                               -0.015258\n",
              "host_id                          -0.016955\n",
              "latitude                          0.079285\n",
              "longitude                        -0.325892\n",
              "price                             0.640074\n",
              "minimum_nights                    0.033386\n",
              "number_of_reviews                -0.042650\n",
              "last_review                      -0.079221\n",
              "reviews_per_month                -0.060483\n",
              "calculated_host_listings_count    0.132836\n",
              "availability_365                  0.099179\n",
              "log_price                         1.000000\n",
              "area_num                          0.256272\n",
              "std_latitude                      0.079285\n",
              "std_longitude                     0.325892\n",
              "core_distance                     0.216493\n",
              "core_cat                         -0.276676\n",
              "room_num                          0.396883\n",
              "sameprice_num                    -0.229243\n",
              "sameprice_num_cat                -0.297565\n",
              "dtype: float64"
            ]
          },
          "metadata": {},
          "execution_count": 221
        }
      ]
    },
    {
      "cell_type": "markdown",
      "source": [
        "### minimum_nights特征分析"
      ],
      "metadata": {
        "id": "_CyH9kULTr6n"
      }
    },
    {
      "cell_type": "code",
      "source": [
        "# sum(data[\"minimum_nights\"].value_counts(dropna=False)>10)\n",
        "# data[\"minimum_nights\"].value_counts(dropna=False)\n",
        "fig, axes = plt.subplots(1,2, figsize=(21, 6))\n",
        "\n",
        "sns.distplot(data['minimum_nights'], rug=False, kde=False, color=\"green\", ax = axes[0])\n",
        "axes[0].set_yscale('log')\n",
        "axes[0].set_xlabel('minimum stay [nights]')\n",
        "axes[0].set_ylabel('count')\n",
        "\n",
        "sns.distplot(np.log1p(data['minimum_nights']), rug=False, kde=False, color=\"green\", ax = axes[1])\n",
        "axes[1].set_yscale('log')\n",
        "axes[1].set_xlabel('minimum stay [nights]')\n",
        "axes[1].set_ylabel('count')\n"
      ],
      "metadata": {
        "colab": {
          "base_uri": "https://localhost:8080/",
          "height": 351
        },
        "id": "pJbuIi9WT4Ac",
        "outputId": "63942d15-03ff-4ff9-b203-aaf7815a5ec4"
      },
      "execution_count": 222,
      "outputs": [
        {
          "output_type": "execute_result",
          "data": {
            "text/plain": [
              "Text(0, 0.5, 'count')"
            ]
          },
          "metadata": {},
          "execution_count": 222
        },
        {
          "output_type": "display_data",
          "data": {
            "image/png": "[encoded data removed]",
            "text/plain": [
              "<Figure size 1512x432 with 2 Axes>"
            ]
          },
          "metadata": {
            "needs_background": "light"
          }
        }
      ]
    },
    {
      "cell_type": "markdown",
      "source": [
        "最小停留夜晚数据分布极不均匀：对数处理"
      ],
      "metadata": {
        "id": "-Gmpei4UFFYL"
      }
    },
    {
      "cell_type": "code",
      "source": [
        "data[\"log_minnight\"]=data[\"minimum_nights\"].map(lambda x:np.log1p(x))"
      ],
      "metadata": {
        "id": "EdIQoSBhGq6D"
      },
      "execution_count": 223,
      "outputs": []
    },
    {
      "cell_type": "markdown",
      "source": [
        "### name：房屋描述的特征分析"
      ],
      "metadata": {
        "id": "QnupkB4OUJr1"
      }
    },
    {
      "cell_type": "markdown",
      "source": [
        "房屋的价格是否和name中一些词出现的次数有关？"
      ],
      "metadata": {
        "id": "rVKFOs8s1s8G"
      }
    },
    {
      "cell_type": "code",
      "source": [
        "data['name']\n",
        "#租客是否租房会受房间描述和房间图片的影响，那价格是否也会受到这些因素的影响呢\n",
        "#我们先用词性标注器对name中的形容词进行一个提取\n",
        "import nltk\n",
        "nltk.download('punkt')\n",
        "nltk.download('averaged_perceptron_tagger')\n",
        "\n",
        "tem_list=data[\"name\"].tolist()\n",
        "word_attri=[]\n",
        "for i in tem_list:\n",
        "  try:\n",
        "    # print(i)\n",
        "    text=nltk.word_tokenize(i)\n",
        "    word_attri.append(nltk.pos_tag(text))\n",
        "  except TypeError:\n",
        "    word_attri.append(0)\n",
        "#没有name的房子对应的值为0"
      ],
      "metadata": {
        "colab": {
          "base_uri": "https://localhost:8080/"
        },
        "id": "0sWQWBZeUO0X",
        "outputId": "c229f6eb-49b0-4889-9a43-6a5f76d91a49"
      },
      "execution_count": 225,
      "outputs": [
        {
          "output_type": "stream",
          "name": "stdout",
          "text": [
            "[nltk_data] Downloading package punkt to /root/nltk_data...\n",
            "[nltk_data]   Package punkt is already up-to-date!\n",
            "[nltk_data] Downloading package averaged_perceptron_tagger to\n",
            "[nltk_data]     /root/nltk_data...\n",
            "[nltk_data]   Package averaged_perceptron_tagger is already up-to-\n",
            "[nltk_data]       date!\n"
          ]
        }
      ]
    },
    {
      "cell_type": "code",
      "source": [
        "###验证\n",
        "tem_list[1]\n",
        "word_attri[3]"
      ],
      "metadata": {
        "colab": {
          "base_uri": "https://localhost:8080/"
        },
        "id": "wFwFfUxpj5Ie",
        "outputId": "6dc46c0a-216f-445c-85bb-619ab1ea88b9"
      },
      "execution_count": 226,
      "outputs": [
        {
          "output_type": "execute_result",
          "data": {
            "text/plain": [
              "[('Cozy', 'NNP'),\n",
              " ('Entire', 'NNP'),\n",
              " ('Floor', 'NNP'),\n",
              " ('of', 'IN'),\n",
              " ('Brownstone', 'NNP')]"
            ]
          },
          "metadata": {},
          "execution_count": 226
        }
      ]
    },
    {
      "cell_type": "code",
      "source": [
        "#将每个房间name提取出来的字符串转成dataframe的格式\n",
        "j=0\n",
        "tem_dict=dict()\n",
        "for i in word_attri:\n",
        "  \n",
        "  tem_dict[j]=[]\n",
        "  if i==0:\n",
        "      tem_dict[j].append(0)\n",
        "\n",
        "  else: \n",
        "    for word,post in i:\n",
        "      \n",
        "      if post==\"JJ\" or post==\"NNP\":\n",
        "        # print(word)\n",
        "        tem_dict[j].append(word)\n",
        "        # print(tem_dict[j])\n",
        "\n",
        "    if len(tem_dict[j])==0:\n",
        "      tem_dict[j].append(0)\n",
        "    else:\n",
        "      tem_dict[j]=','.join(tem_dict[j]) #结果即为：1,2,3,4,5\n",
        "    \n",
        "  j+=1\n",
        "  \n",
        "\n",
        "tem_dict    \n",
        "# pd.DataFrame.from_dict(tem_dict, orient='index',columns=['word'])\n",
        "# t_dict=dict([(k, pd.Series(v)) for k, v in tem_dict.items()])\n",
        "\n",
        "tem_df=pd.DataFrame.from_dict(tem_dict,orient='index',columns=['word'])\n",
        "#tem_df[tem_df[\"word\"].isnull()]"
      ],
      "metadata": {
        "id": "mpfC617jjf3r"
      },
      "execution_count": 227,
      "outputs": []
    },
    {
      "cell_type": "code",
      "source": [
        "#统计在描述房子的词汇中，最常见词汇以及它的词频\n",
        "tem_word=[]\n",
        "for i in tem_df[\"word\"]:\n",
        "  tem_word.append(i)\n",
        "\n",
        "def split_word(x):\n",
        "  return str(x).split(\",\")\n",
        "\n",
        "#所有name中的所有词的汇总（有重复值）\n",
        "word_list1=[]\n",
        "for i in tem_word:\n",
        "  t=split_word(i)\n",
        "  try:\n",
        "    for j in t:\n",
        "      word_list1.append(j)\n",
        "  except TypeError:\n",
        "    print(t)\n",
        "\n",
        "#统计词频\n",
        "from collections import Counter\n",
        "Counter(word_list1).most_common(50)\n",
        "# len(Counter(word_list))\n",
        "\n",
        "\n",
        "\n",
        "#把出现次数排名前50的描述词汇提取出来，去掉一些特殊符号\n",
        "#对剩下的描述词每个都当作一个二元特征，如果name中出现了便是1\n",
        "tem_list=Counter(word_list1).most_common(50)\n",
        "word_list2=[]\n",
        "\n",
        "for word,word_num in tem_list:\n",
        "  word_list2.append(word)\n",
        "\n",
        "for i in word_list2:\n",
        "  tem_df[i]=tem_df[\"word\"].map(lambda x: 1 if i in str(x).split(\",\") else 0)\n"
      ],
      "metadata": {
        "id": "5FPG32I2ohWW"
      },
      "execution_count": 228,
      "outputs": []
    },
    {
      "cell_type": "code",
      "source": [
        "tem_df.columns\n",
        "print(tem_df[\"Cozy\"].value_counts())\n",
        "#考虑到每个词做一个特征样本之间悬殊太大\n",
        "#我们可以把这50个特征简化为，name中包含的特征形容词个数\n",
        "tem_df[\"word_num\"]=tem_df[\"word\"].map(lambda x:len(str(x).split(\",\")))\n",
        "tem_df[\"word_num\"].value_counts()"
      ],
      "metadata": {
        "colab": {
          "base_uri": "https://localhost:8080/"
        },
        "id": "TxdEE0euusnv",
        "outputId": "9134aa46-6cf9-481d-af75-ea1dc6c519dc"
      },
      "execution_count": 229,
      "outputs": [
        {
          "output_type": "stream",
          "name": "stdout",
          "text": [
            "0    44766\n",
            "1     4118\n",
            "Name: Cozy, dtype: int64\n"
          ]
        },
        {
          "output_type": "execute_result",
          "data": {
            "text/plain": [
              "3     10886\n",
              "4     10869\n",
              "2      8275\n",
              "5      7492\n",
              "1      4926\n",
              "6      3950\n",
              "7      1646\n",
              "8       612\n",
              "9       191\n",
              "10       29\n",
              "11        6\n",
              "12        2\n",
              "Name: word_num, dtype: int64"
            ]
          },
          "metadata": {},
          "execution_count": 229
        }
      ]
    },
    {
      "cell_type": "code",
      "source": [
        "data=pd.concat([data,tem_df[[\"word\",\"word_num\"]]],axis=1)"
      ],
      "metadata": {
        "id": "gwvQMgtq9FBW"
      },
      "execution_count": 230,
      "outputs": []
    },
    {
      "cell_type": "markdown",
      "source": [
        "# 模型训练与预测"
      ],
      "metadata": {
        "id": "Tci8ePJnS_TY"
      }
    },
    {
      "cell_type": "code",
      "source": [
        "data.columns"
      ],
      "metadata": {
        "colab": {
          "base_uri": "https://localhost:8080/"
        },
        "id": "J-FHRK2eI75O",
        "outputId": "a8e8deab-6e75-4020-847e-83aebc447135"
      },
      "execution_count": 231,
      "outputs": [
        {
          "output_type": "execute_result",
          "data": {
            "text/plain": [
              "Index(['id', 'name', 'host_id', 'host_name', 'neighbourhood_group',\n",
              "       'neighbourhood', 'latitude', 'longitude', 'room_type', 'price',\n",
              "       'minimum_nights', 'number_of_reviews', 'last_review',\n",
              "       'reviews_per_month', 'calculated_host_listings_count',\n",
              "       'availability_365', 'log_price', 'area_num', 'std_latitude',\n",
              "       'std_longitude', 'core_distance', 'core_cat', 'room_num',\n",
              "       'sameprice_num', 'sameprice_num_cat', 'log_minnight', 'word',\n",
              "       'word_num'],\n",
              "      dtype='object')"
            ]
          },
          "metadata": {},
          "execution_count": 231
        }
      ]
    },
    {
      "cell_type": "code",
      "source": [
        "cat=['neighbourhood_group',\"neighbourhood\",\"room_type\"]\n",
        "num=[\"latitude\",\"longitude\",\"minimum_nights\",\"number_of_reviews\",\"last_review\",\"reviews_per_month\",\"calculated_host_listings_count\"\\\n",
        "     ,\"availability_365\",\"area_num\",\"sameprice_num_cat\",\"word_num\",\"core_cat\",\"room_num\"  ]\n",
        "pd.get_dummies(data[cat])\n",
        "all=pd.concat([pd.get_dummies(data[cat]),data[num]],axis=1)\n",
        "all_tar=data[\"log_price\"]"
      ],
      "metadata": {
        "id": "UJWEkra98JfE"
      },
      "execution_count": 234,
      "outputs": []
    },
    {
      "cell_type": "code",
      "source": [
        "all.shape\n",
        "# all_tar.shape\n"
      ],
      "metadata": {
        "colab": {
          "base_uri": "https://localhost:8080/"
        },
        "id": "oIMldpwrIJ1v",
        "outputId": "8ea95026-36fa-44e4-8f9b-8dd7896ba3d6"
      },
      "execution_count": 235,
      "outputs": [
        {
          "output_type": "execute_result",
          "data": {
            "text/plain": [
              "(48884, 242)"
            ]
          },
          "metadata": {},
          "execution_count": 235
        }
      ]
    },
    {
      "cell_type": "code",
      "source": [
        "from sklearn.linear_model import Ridge, RidgeCV, Lasso, LassoCV, LinearRegression, ElasticNet,  HuberRegressor\n",
        "from sklearn.ensemble import RandomForestRegressor, GradientBoostingRegressor\n",
        "from xgboost import XGBRegressor\n",
        "from sklearn.model_selection import cross_val_score,KFold\n",
        "n_folds=10\n",
        "kf = KFold(n_folds, shuffle=True, random_state = 91).get_n_splits()\n",
        "\n",
        "\n",
        "def rmse_cv(model):\n",
        "    \n",
        "    return cross_val_score(model, all, all_tar, scoring='neg_mean_squared_error', cv=kf)\n",
        "\n",
        "for Model in [LinearRegression, Ridge, Lasso, ElasticNet, RandomForestRegressor, XGBRegressor, HuberRegressor]:\n",
        "    if Model == XGBRegressor: cv_res = rmse_cv(XGBRegressor(objective='reg:squarederror'))\n",
        "    else: cv_res = rmse_cv(Model())\n",
        "    print('{}: {:.5f} +/- {:5f}'.format(Model.__name__, -cv_res.mean(), cv_res.std()))"
      ],
      "metadata": {
        "colab": {
          "base_uri": "https://localhost:8080/"
        },
        "id": "phaL-2n47hwB",
        "outputId": "7aac37ca-f41e-4ed8-d1ca-5800afc762dc"
      },
      "execution_count": 238,
      "outputs": [
        {
          "output_type": "stream",
          "name": "stdout",
          "text": [
            "LinearRegression: 905740767.69626 +/- 1886282531.893514\n",
            "Ridge: 0.21036 +/- 0.016862\n",
            "Lasso: 0.36636 +/- 0.035243\n",
            "ElasticNet: 0.36546 +/- 0.035018\n",
            "RandomForestRegressor: 0.18606 +/- 0.020080\n",
            "XGBRegressor: 0.18772 +/- 0.017676\n",
            "HuberRegressor: 0.37857 +/- 0.052895\n"
          ]
        }
      ]
    },
    {
      "cell_type": "markdown",
      "source": [
        "集成模型普遍比线性模型对数据拟合的更好"
      ],
      "metadata": {
        "id": "A8eOPgVabtIg"
      }
    }
  ]
}